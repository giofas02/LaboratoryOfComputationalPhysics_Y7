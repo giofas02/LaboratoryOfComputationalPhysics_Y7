{
 "cells": [
  {
   "cell_type": "markdown",
   "metadata": {},
   "source": [
    "# EXAM SIMULATION: \n",
    "## Starting time: 16.15\n",
    "## End before: 18.15 --> at this point I had to start exercise 6\n",
    "## Actual time at which I finished: 19.30\n",
    "\n",
    "#### Notice: \n",
    "             1. the exam is considered finished once you've pulled the exercise on your GitHub repository. \n",
    "             2. during the exam you don't have access to internet, only a few library instructions. "
   ]
  },
  {
   "cell_type": "markdown",
   "metadata": {},
   "source": [
    "1. The MickeyMouse problem\n",
    "\n",
    "a) Write a program that prints the numbers from 1 to 100. But for multiples of 3 print `Mickey` instead of the corresponding number and for the multiples of 5 print `Mouse`. For numbers which are multiples of both three and five print `MickeyMouse`\n",
    "\n",
    "b) Put the result in a tuple and substitute `Mickey` with `Donald` and `Mouse` with `Duck`"
   ]
  },
  {
   "cell_type": "code",
   "execution_count": 31,
   "metadata": {},
   "outputs": [
    {
     "name": "stdout",
     "output_type": "stream",
     "text": [
      "[1, 2, 3, 4, 5, 6, 7, 8, 9, 10, 11, 12, 13, 14, 15, 16, 17, 18, 19, 20, 21, 22, 23, 24, 25, 26, 27, 28, 29, 30, 31, 32, 33, 34, 35, 36, 37, 38, 39, 40, 41, 42, 43, 44, 45, 46, 47, 48, 49, 50, 51, 52, 53, 54, 55, 56, 57, 58, 59, 60, 61, 62, 63, 64, 65, 66, 67, 68, 69, 70, 71, 72, 73, 74, 75, 76, 77, 78, 79, 80, 81, 82, 83, 84, 85, 86, 87, 88, 89, 90, 91, 92, 93, 94, 95, 96, 97, 98, 99, 100] \n",
      "\n",
      "[1, 2, 'Mickey', 4, 'Mouse', 'Mickey', 7, 8, 'Mickey', 'Mouse', 11, 'Mickey', 13, 14, 'MickeyMouse', 16, 17, 'Mickey', 19, 'Mouse', 'Mickey', 22, 23, 'Mickey', 'Mouse', 26, 'Mickey', 28, 29, 'MickeyMouse', 31, 32, 'Mickey', 34, 'Mouse', 'Mickey', 37, 38, 'Mickey', 'Mouse', 41, 'Mickey', 43, 44, 'MickeyMouse', 46, 47, 'Mickey', 49, 'Mouse', 'Mickey', 52, 53, 'Mickey', 'Mouse', 56, 'Mickey', 58, 59, 'MickeyMouse', 61, 62, 'Mickey', 64, 'Mouse', 'Mickey', 67, 68, 'Mickey', 'Mouse', 71, 'Mickey', 73, 74, 'MickeyMouse', 76, 77, 'Mickey', 79, 'Mouse', 'Mickey', 82, 83, 'Mickey', 'Mouse', 86, 'Mickey', 88, 89, 'MickeyMouse', 91, 92, 'Mickey', 94, 'Mouse', 'Mickey', 97, 98, 'Mickey', 'Mouse'] \n",
      "\n",
      "(1, 2, 'Mickey', 4, 'Mouse', 'Mickey', 7, 8, 'Mickey', 'Mouse', 11, 'Mickey', 13, 14, 'MickeyMouse', 16, 17, 'Mickey', 19, 'Mouse', 'Mickey', 22, 23, 'Mickey', 'Mouse', 26, 'Mickey', 28, 29, 'MickeyMouse', 31, 32, 'Mickey', 34, 'Mouse', 'Mickey', 37, 38, 'Mickey', 'Mouse', 41, 'Mickey', 43, 44, 'MickeyMouse', 46, 47, 'Mickey', 49, 'Mouse', 'Mickey', 52, 53, 'Mickey', 'Mouse', 56, 'Mickey', 58, 59, 'MickeyMouse', 61, 62, 'Mickey', 64, 'Mouse', 'Mickey', 67, 68, 'Mickey', 'Mouse', 71, 'Mickey', 73, 74, 'MickeyMouse', 76, 77, 'Mickey', 79, 'Mouse', 'Mickey', 82, 83, 'Mickey', 'Mouse', 86, 'Mickey', 88, 89, 'MickeyMouse', 91, 92, 'Mickey', 94, 'Mouse', 'Mickey', 97, 98, 'Mickey', 'Mouse') \n",
      "\n"
     ]
    },
    {
     "ename": "TypeError",
     "evalue": "'tuple' object does not support item assignment",
     "output_type": "error",
     "traceback": [
      "\u001b[0;31m---------------------------------------------------------------------------\u001b[0m",
      "\u001b[0;31mTypeError\u001b[0m                                 Traceback (most recent call last)",
      "Cell \u001b[0;32mIn[31], line 20\u001b[0m\n\u001b[1;32m     18\u001b[0m \u001b[38;5;28;01mfor\u001b[39;00m i,num \u001b[38;5;129;01min\u001b[39;00m \u001b[38;5;28menumerate\u001b[39m (numbers): \n\u001b[1;32m     19\u001b[0m     \u001b[38;5;28;01mif\u001b[39;00m num \u001b[38;5;241m==\u001b[39m \u001b[38;5;124m'\u001b[39m\u001b[38;5;124mMickey\u001b[39m\u001b[38;5;124m'\u001b[39m: \n\u001b[0;32m---> 20\u001b[0m         numbers[i] \u001b[38;5;241m=\u001b[39m \u001b[38;5;124m'\u001b[39m\u001b[38;5;124mDonald\u001b[39m\u001b[38;5;124m'\u001b[39m\n\u001b[1;32m     21\u001b[0m     \u001b[38;5;28;01mif\u001b[39;00m num \u001b[38;5;241m==\u001b[39m \u001b[38;5;124m'\u001b[39m\u001b[38;5;124mMouse\u001b[39m\u001b[38;5;124m'\u001b[39m: \n\u001b[1;32m     22\u001b[0m         numbers[i] \u001b[38;5;241m=\u001b[39m \u001b[38;5;124m'\u001b[39m\u001b[38;5;124mDuck\u001b[39m\u001b[38;5;124m'\u001b[39m\n",
      "\u001b[0;31mTypeError\u001b[0m: 'tuple' object does not support item assignment"
     ]
    }
   ],
   "source": [
    "numbers = [i for i in range(1,101)]\n",
    "print(numbers,'\\n')\n",
    "\n",
    "for i, num in enumerate (numbers): # In order to update the list's values I have to access them through an index\n",
    "    if num%3 == 0 and num%5 == 0: \n",
    "        numbers[i] = 'MickeyMouse'\n",
    "    elif num%3 == 0: \n",
    "        numbers[i] = 'Mickey'\n",
    "    elif num%5 == 0:\n",
    "        numbers[i] = 'Mouse' \n",
    "\n",
    "print(numbers,'\\n')\n",
    "\n",
    "numbers = tuple(numbers)\n",
    "\n",
    "print(numbers,'\\n')\n",
    "\n",
    "for i,num in enumerate (numbers): \n",
    "    if num == 'Mickey': \n",
    "        numbers[i] = 'Donald'\n",
    "    if num == 'Mouse': \n",
    "        numbers[i] = 'Duck'\n",
    "\n",
    "print(numbers,'\\n') # I get an error as expected because tuples are non-modifiable objects"
   ]
  },
  {
   "cell_type": "markdown",
   "metadata": {},
   "source": [
    "2\\. The swap function\n",
    "\n",
    "Write a function that swap the values of two input variables x and y (whatever the type). Try to do that also without a temporary variable. "
   ]
  },
  {
   "cell_type": "code",
   "execution_count": 39,
   "metadata": {},
   "outputs": [
    {
     "name": "stdout",
     "output_type": "stream",
     "text": [
      "(3, 2)\n",
      "(3, 2)\n"
     ]
    },
    {
     "ename": "NameError",
     "evalue": "name 'sqrt' is not defined",
     "output_type": "error",
     "traceback": [
      "\u001b[0;31m---------------------------------------------------------------------------\u001b[0m",
      "\u001b[0;31mNameError\u001b[0m                                 Traceback (most recent call last)",
      "Cell \u001b[0;32mIn[39], line 14\u001b[0m\n\u001b[1;32m     10\u001b[0m     \u001b[38;5;28;01mreturn\u001b[39;00m (y,x)\n\u001b[1;32m     12\u001b[0m \u001b[38;5;28mprint\u001b[39m(swap_notemp(\u001b[38;5;241m2\u001b[39m,\u001b[38;5;241m3\u001b[39m))\n\u001b[0;32m---> 14\u001b[0m \u001b[38;5;28mprint\u001b[39m(sqrt(\u001b[38;5;241m9\u001b[39m))\n",
      "\u001b[0;31mNameError\u001b[0m: name 'sqrt' is not defined"
     ]
    }
   ],
   "source": [
    "def swap_withtemp(x,y):\n",
    "    z = x\n",
    "    x = y\n",
    "    y = z\n",
    "    return (x,y)\n",
    "\n",
    "print(swap_withtemp(2,3))\n",
    "\n",
    "def swap_notemp(x,y): \n",
    "    return (y,x)\n",
    "\n",
    "print(swap_notemp(2,3))\n"
   ]
  },
  {
   "cell_type": "markdown",
   "metadata": {},
   "source": [
    "3\\. Computing the distance\n",
    "\n",
    "Write a function that calculates and returns the euclidean distance between two points *u* and *v*, where *u* and *v* are both 2-tuples *(x,y)*. For example, if *u=(3,0)* and *v=(0,4)*, the function should return 5"
   ]
  },
  {
   "cell_type": "code",
   "execution_count": 48,
   "metadata": {},
   "outputs": [
    {
     "name": "stdout",
     "output_type": "stream",
     "text": [
      "5.0\n"
     ]
    },
    {
     "ename": "TypeError",
     "evalue": "Arguments must be two-tuples of floats",
     "output_type": "error",
     "traceback": [
      "\u001b[0;31m---------------------------------------------------------------------------\u001b[0m",
      "\u001b[0;31mTypeError\u001b[0m                                 Traceback (most recent call last)",
      "Cell \u001b[0;32mIn[48], line 17\u001b[0m\n\u001b[1;32m     15\u001b[0m a \u001b[38;5;241m=\u001b[39m [\u001b[38;5;241m3\u001b[39m,\u001b[38;5;241m0\u001b[39m]\n\u001b[1;32m     16\u001b[0m b \u001b[38;5;241m=\u001b[39m [\u001b[38;5;241m0\u001b[39m,\u001b[38;5;241m4\u001b[39m]\n\u001b[0;32m---> 17\u001b[0m \u001b[38;5;28mprint\u001b[39m(euclidean(a,b))\n",
      "Cell \u001b[0;32mIn[48], line 10\u001b[0m, in \u001b[0;36meuclidean\u001b[0;34m(u, v)\u001b[0m\n\u001b[1;32m      8\u001b[0m \u001b[38;5;28;01mdef\u001b[39;00m \u001b[38;5;21meuclidean\u001b[39m(u: \u001b[38;5;28mtuple\u001b[39m[\u001b[38;5;28mfloat\u001b[39m, \u001b[38;5;28mfloat\u001b[39m], v: \u001b[38;5;28mtuple\u001b[39m[\u001b[38;5;28mfloat\u001b[39m, \u001b[38;5;28mfloat\u001b[39m]) \u001b[38;5;241m-\u001b[39m\u001b[38;5;241m>\u001b[39m \u001b[38;5;28mfloat\u001b[39m : \n\u001b[1;32m      9\u001b[0m     \u001b[38;5;28;01mif\u001b[39;00m \u001b[38;5;129;01mnot\u001b[39;00m (is_two_tuple_of_floats(u) \u001b[38;5;129;01mand\u001b[39;00m is_two_tuple_of_floats(v)): \n\u001b[0;32m---> 10\u001b[0m         \u001b[38;5;28;01mraise\u001b[39;00m \u001b[38;5;167;01mTypeError\u001b[39;00m(\u001b[38;5;124m\"\u001b[39m\u001b[38;5;124mArguments must be two-tuples of floats\u001b[39m\u001b[38;5;124m\"\u001b[39m)\n\u001b[1;32m     11\u001b[0m     \u001b[38;5;28;01mreturn\u001b[39;00m (np\u001b[38;5;241m.\u001b[39msqrt((u[\u001b[38;5;241m0\u001b[39m]\u001b[38;5;241m-\u001b[39mv[\u001b[38;5;241m0\u001b[39m])\u001b[38;5;241m*\u001b[39m\u001b[38;5;241m*\u001b[39m\u001b[38;5;241m2\u001b[39m \u001b[38;5;241m+\u001b[39m (u[\u001b[38;5;241m1\u001b[39m]\u001b[38;5;241m-\u001b[39mv[\u001b[38;5;241m1\u001b[39m])\u001b[38;5;241m*\u001b[39m\u001b[38;5;241m*\u001b[39m\u001b[38;5;241m2\u001b[39m))\n",
      "\u001b[0;31mTypeError\u001b[0m: Arguments must be two-tuples of floats"
     ]
    }
   ],
   "source": [
    "import numpy as np\n",
    "\n",
    "def is_two_tuple_of_floats(obj):\n",
    "    if isinstance(obj, tuple) and len(obj) == 2 and all(isinstance(x, float) for x in obj):\n",
    "        return True\n",
    "    return False\n",
    "\n",
    "def euclidean(u: tuple[float, float], v: tuple[float, float]) -> float : \n",
    "    if not (is_two_tuple_of_floats(u) and is_two_tuple_of_floats(v)): \n",
    "        raise TypeError(\"Arguments must be two-tuples of floats\")\n",
    "    return (np.sqrt((u[0]-v[0])**2 + (u[1]-v[1])**2))\n",
    "\n",
    "print(euclidean((3.,0.),(0.,4.)))\n",
    "\n",
    "a = [3,0]\n",
    "b = [0,4]\n",
    "print(euclidean(a,b))"
   ]
  },
  {
   "cell_type": "markdown",
   "metadata": {},
   "source": [
    "4\\. Counting letters\n",
    "\n",
    "Write a program to calculate the number of times each character occurs in a given string *s*. Ignore differneces in capitalization"
   ]
  },
  {
   "cell_type": "markdown",
   "metadata": {},
   "source": [
    "s=\"Write a program that prints the numbers from 1 to 100. \\\n",
    "But for multiples of three print Mickey instead of the number and for the multiples of five print Mouse. \\\n",
    "For numbers which are multiples of both three and five print MickeyMouse\""
   ]
  },
  {
   "cell_type": "code",
   "execution_count": 78,
   "metadata": {},
   "outputs": [
    {
     "name": "stdout",
     "output_type": "stream",
     "text": [
      "{'1': 13, '2': 12, 'm': 53, 'i': 33, 'c': 33, 'k': 33, 'e': 53, 'y': 33, '4': 13, 'o': 20, 'u': 20, 's': 20, '7': 13, '8': 12, '3': 11, '6': 11, '9': 11, '5': 5}\n"
     ]
    }
   ],
   "source": [
    "numbers = [i for i in range(1,101)]\n",
    "#print(numbers,'\\n')\n",
    "\n",
    "for i, num in enumerate (numbers): \n",
    "    if num%3 == 0 and num%5 == 0: \n",
    "        numbers[i] = 'MickeyMouse'\n",
    "    elif num%3 == 0: \n",
    "        numbers[i] = 'Mickey'\n",
    "    elif num%5 == 0:\n",
    "        numbers[i] = 'Mouse' \n",
    "\n",
    "def string(list): \n",
    "    s = ''\n",
    "    for inx,elem in enumerate(list): \n",
    "        s += str(list[inx])\n",
    "    return s\n",
    "\n",
    "string = string(numbers)\n",
    "#print(string)\n",
    "#print(string)\n",
    "\n",
    "def count(string): \n",
    "    # Convert to lowercase to ignore capitalization differences\n",
    "    string = string.lower()\n",
    "    \n",
    "    unique_characters = []\n",
    "    counts = []\n",
    "    \n",
    "    for char in string:\n",
    "        if char not in unique_characters: \n",
    "            unique_characters.append(char)\n",
    "            count = 0\n",
    "            for other_char in string: \n",
    "                if other_char == char:\n",
    "                    count += 1\n",
    "            counts.append(count)\n",
    "    dictionary = dict(zip(unique_characters, counts))\n",
    "    \n",
    "    return dictionary\n",
    "\n",
    "print(count(string))  \n"
   ]
  },
  {
   "cell_type": "markdown",
   "metadata": {},
   "source": [
    "5\\. Isolating the unique\n",
    "\n",
    "Write a function that determines and count the unique numbers in the list *l*"
   ]
  },
  {
   "cell_type": "code",
   "execution_count": 90,
   "metadata": {},
   "outputs": [
    {
     "name": "stdout",
     "output_type": "stream",
     "text": [
      "{36: 3, 45: 3, 58: 1, 3: 2, 74: 1, 96: 1, 64: 1, 31: 1, 10: 2, 24: 1, 19: 1, 33: 1, 86: 1, 99: 1, 18: 1, 63: 1, 70: 2, 85: 3, 47: 3, 56: 3, 42: 3, 84: 1, 88: 2, 55: 2, 20: 2, 54: 4, 8: 1, 51: 1, 79: 3, 81: 1, 57: 1, 37: 1, 91: 3, 1: 1, 66: 1, 9: 1, 89: 1, 50: 3, 95: 1, 90: 1, 98: 1, 39: 1, 16: 2, 82: 1, 92: 2, 41: 2, 30: 2, 34: 2, 94: 2, 5: 1, 72: 1, 87: 1, 75: 1, 53: 1}\n"
     ]
    }
   ],
   "source": [
    "l = [36, 45, 58, 3, 74, 96, 64, 45, 31, 10, 24, 19, 33, 86, 99, 18, 63, 70, 85,\n",
    " 85, 63, 47, 56, 42, 70, 84, 88, 55, 20, 54, 8, 56, 51, 79, 81, 57, 37, 91,\n",
    " 1, 84, 84, 36, 66, 9, 89, 50, 42, 91, 50, 95, 90, 98, 39, 16, 82, 31, 92, 41,\n",
    " 45, 30, 66, 70, 34, 85, 94, 5, 3, 36, 72, 91, 84, 34, 87, 75, 53, 51, 20, 89, 51, 20]\n",
    "\n",
    "def unique_numbers(l): \n",
    "    unique_num = []\n",
    "    counts = []\n",
    "    for num in l: \n",
    "        if num not in unique_num: \n",
    "            unique_num.append(num)\n",
    "            count = 0\n",
    "            for other_num in l: \n",
    "                if other_num == num: \n",
    "                    count += 1\n",
    "        counts.append(count)\n",
    "    dictionary = dict(zip(unique_num, counts))\n",
    "    return dictionary\n",
    "    \n",
    "print(unique_numbers(l))"
   ]
  },
  {
   "cell_type": "markdown",
   "metadata": {},
   "source": [
    "6\\. Combination of functions\n",
    "\n",
    "Write two functions - one that returns the square of a number, and one that returns the cube. Now write a third function that returns the number raised to the 6th power using the two previous functions."
   ]
  },
  {
   "cell_type": "code",
   "execution_count": 94,
   "metadata": {},
   "outputs": [
    {
     "name": "stdout",
     "output_type": "stream",
     "text": [
      "64\n",
      "64\n"
     ]
    }
   ],
   "source": [
    "def square(n): \n",
    "    return n**2\n",
    "\n",
    "def cube(n): \n",
    "    return n**3\n",
    "\n",
    "def six_pow(n):\n",
    "    return square(cube(n))\n",
    "\n",
    "print(six_pow(2))\n",
    "print(2**6)"
   ]
  },
  {
   "cell_type": "markdown",
   "metadata": {},
   "source": [
    "7\\. Cubes\n",
    "\n",
    "Create a list of the cubes of x for x in *[0, 10]* using:\n",
    "\n",
    "a) a for loop\n",
    "\n",
    "b) a list comprehension"
   ]
  },
  {
   "cell_type": "code",
   "execution_count": 107,
   "metadata": {},
   "outputs": [
    {
     "name": "stdout",
     "output_type": "stream",
     "text": [
      "[0, 1, 8, 27, 64, 125, 216, 343, 512, 729, 1000]\n",
      "[0, 1, 8, 27, 64, 125, 216, 343, 512, 729, 1000]\n"
     ]
    }
   ],
   "source": [
    "loop = []\n",
    "for i in range(0,11): \n",
    "    loop.append(i**3)\n",
    "print(loop)\n",
    "\n",
    "list = [i**3 for i in range(11)]\n",
    "print(list)"
   ]
  },
  {
   "cell_type": "markdown",
   "metadata": {},
   "source": [
    "8\\. Nested list comprehension\n",
    "\n",
    "A Pythagorean triple is an integer solution to the Pythagorean theorem $a^2+b^2=c^2$. The first Pythagorean triple is (3,4,5). Find and put in a tuple all unique Pythagorean triples for the positive integers a, b and c less than 100."
   ]
  },
  {
   "cell_type": "code",
   "execution_count": 140,
   "metadata": {},
   "outputs": [
    {
     "name": "stdout",
     "output_type": "stream",
     "text": [
      "[(3, 4, 5), (5, 12, 13), (6, 8, 10), (7, 24, 25), (8, 15, 17), (9, 12, 15), (9, 40, 41), (10, 24, 26), (11, 60, 61), (12, 16, 20), (12, 35, 37), (13, 84, 85), (14, 48, 50), (15, 20, 25), (15, 36, 39), (16, 30, 34), (16, 63, 65), (18, 24, 30), (18, 80, 82), (20, 21, 29), (20, 48, 52), (21, 28, 35), (21, 72, 75), (24, 32, 40), (24, 45, 51), (24, 70, 74), (25, 60, 65), (27, 36, 45), (28, 45, 53), (28, 96, 100), (30, 40, 50), (30, 72, 78), (32, 60, 68), (33, 44, 55), (33, 56, 65), (35, 84, 91), (36, 48, 60), (36, 77, 85), (39, 52, 65), (39, 80, 89), (40, 42, 58), (40, 75, 85), (42, 56, 70), (45, 60, 75), (48, 55, 73), (48, 64, 80), (51, 68, 85), (54, 72, 90), (57, 76, 95), (60, 63, 87), (60, 80, 100), (65, 72, 97)]\n",
      "52\n"
     ]
    }
   ],
   "source": [
    "triples = []\n",
    "for a in range(1, 101):\n",
    "    for b in range(a+1, 101):\n",
    "        for c in range (b+1, 101):\n",
    "            if a**2 + b**2 == c**2: \n",
    "                triples.append((a,b,c))\n",
    "print(triples)\n",
    "print(len(triples))"
   ]
  },
  {
   "cell_type": "markdown",
   "metadata": {},
   "source": [
    "9\\. Normalization\n",
    "\n",
    "Write a function that takes a tuple of numbers and returns it with the entries normalized to one"
   ]
  },
  {
   "cell_type": "code",
   "execution_count": 169,
   "metadata": {},
   "outputs": [
    {
     "name": "stdout",
     "output_type": "stream",
     "text": [
      "(0.5, 0.5)\n"
     ]
    }
   ],
   "source": [
    "def normalize_tuple(t: tuple) -> tuple:\n",
    "    total = sum(t)  # Calculate the sum of all elements\n",
    "    if total == 0:\n",
    "        raise ValueError(\"Sum of elements in the tuple is zero, can't normalize.\")\n",
    "    return tuple(x / total for x in t)  # Return a new tuple with normalized values\n",
    "\n",
    "print(normalize_tuple((1,1)))"
   ]
  }
 ],
 "metadata": {
  "kernelspec": {
   "display_name": "Python 3 (ipykernel)",
   "language": "python",
   "name": "python3"
  },
  "language_info": {
   "codemirror_mode": {
    "name": "ipython",
    "version": 3
   },
   "file_extension": ".py",
   "mimetype": "text/x-python",
   "name": "python",
   "nbconvert_exporter": "python",
   "pygments_lexer": "ipython3",
   "version": "3.12.7"
  }
 },
 "nbformat": 4,
 "nbformat_minor": 4
}
