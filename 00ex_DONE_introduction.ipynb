{
 "cells": [
  {
   "cell_type": "markdown",
   "metadata": {},
   "source": [
    "1. The MickeyMouse problem\n",
    "\n",
    "a) Write a program that prints the numbers from 1 to 100. But for multiples of 3 print `Mickey` instead of the corresponding number and for the multiples of 5 print `Mouse`. For numbers which are multiples of both three and five print `MickeyMouse`\n",
    "\n",
    "b) Put the result in a tuple and substitute `Mickey` with `Donald` and `Mouse` with `Duck`"
   ]
  },
  {
   "cell_type": "code",
   "execution_count": 3,
   "metadata": {},
   "outputs": [
    {
     "name": "stdout",
     "output_type": "stream",
     "text": [
      "multiples with Mickey Mouse: [1, 2, 'Mickey', 4, 'Mouse', 'Mickey', 7, 8, 'Mickey', 'Mouse', 11, 'Mickey', 13, 14, 'MickeyMouse', 16, 17, 'Mickey', 19, 'Mouse', 'Mickey', 22, 23, 'Mickey', 'Mouse', 26, 'Mickey', 28, 29, 'MickeyMouse', 31, 32, 'Mickey', 34, 'Mouse', 'Mickey', 37, 38, 'Mickey', 'Mouse', 41, 'Mickey', 43, 44, 'MickeyMouse', 46, 47, 'Mickey', 49, 'Mouse', 'Mickey', 52, 53, 'Mickey', 'Mouse', 56, 'Mickey', 58, 59, 'MickeyMouse', 61, 62, 'Mickey', 64, 'Mouse', 'Mickey', 67, 68, 'Mickey', 'Mouse', 71, 'Mickey', 73, 74, 'MickeyMouse', 76, 77, 'Mickey', 79, 'Mouse', 'Mickey', 82, 83, 'Mickey', 'Mouse', 86, 'Mickey', 88, 89, 'MickeyMouse', 91, 92, 'Mickey', 94, 'Mouse', 'Mickey', 97, 98, 'Mickey', 'Mouse']\n",
      "\n",
      "list transformed in tuple: (1, 2, 'Mickey', 4, 'Mouse', 'Mickey', 7, 8, 'Mickey', 'Mouse', 11, 'Mickey', 13, 14, 'MickeyMouse', 16, 17, 'Mickey', 19, 'Mouse', 'Mickey', 22, 23, 'Mickey', 'Mouse', 26, 'Mickey', 28, 29, 'MickeyMouse', 31, 32, 'Mickey', 34, 'Mouse', 'Mickey', 37, 38, 'Mickey', 'Mouse', 41, 'Mickey', 43, 44, 'MickeyMouse', 46, 47, 'Mickey', 49, 'Mouse', 'Mickey', 52, 53, 'Mickey', 'Mouse', 56, 'Mickey', 58, 59, 'MickeyMouse', 61, 62, 'Mickey', 64, 'Mouse', 'Mickey', 67, 68, 'Mickey', 'Mouse', 71, 'Mickey', 73, 74, 'MickeyMouse', 76, 77, 'Mickey', 79, 'Mouse', 'Mickey', 82, 83, 'Mickey', 'Mouse', 86, 'Mickey', 88, 89, 'MickeyMouse', 91, 92, 'Mickey', 94, 'Mouse', 'Mickey', 97, 98, 'Mickey', 'Mouse')\n",
      "\n",
      "list Donald Duck: [1, 2, 'Donald', 4, 'Duck', 'Donald', 7, 8, 'Donald', 'Duck', 11, 'Donald', 13, 14, 'MickeyMouse', 16, 17, 'Donald', 19, 'Duck', 'Donald', 22, 23, 'Donald', 'Duck', 26, 'Donald', 28, 29, 'MickeyMouse', 31, 32, 'Donald', 34, 'Duck', 'Donald', 37, 38, 'Donald', 'Duck', 41, 'Donald', 43, 44, 'MickeyMouse', 46, 47, 'Donald', 49, 'Duck', 'Donald', 52, 53, 'Donald', 'Duck', 56, 'Donald', 58, 59, 'MickeyMouse', 61, 62, 'Donald', 64, 'Duck', 'Donald', 67, 68, 'Donald', 'Duck', 71, 'Donald', 73, 74, 'MickeyMouse', 76, 77, 'Donald', 79, 'Duck', 'Donald', 82, 83, 'Donald', 'Duck', 86, 'Donald', 88, 89, 'MickeyMouse', 91, 92, 'Donald', 94, 'Duck', 'Donald', 97, 98, 'Donald', 'Duck']\n"
     ]
    }
   ],
   "source": [
    "my_list = []\n",
    "\n",
    "for i in range(1,101): \n",
    "    my_list.append(i)\n",
    "#print(\"lista di numeri:\",my_list)\n",
    "    if my_list[i-1]%3 == 0 and my_list[i-1]%5 == 0: \n",
    "        my_list[i-1] = 'MickeyMouse'\n",
    "    elif my_list[i-1]%3 == 0: \n",
    "        my_list[i-1] = 'Mickey'\n",
    "    elif my_list[i-1]%5 == 0:\n",
    "        my_list[i-1] = 'Mouse'\n",
    "\n",
    "print(\"multiples with Mickey Mouse:\",my_list)\n",
    "\n",
    "my_tuple = tuple(my_list) \n",
    "\n",
    "print()\n",
    "print(\"list transformed in tuple:\", my_tuple)\n",
    "\n",
    "#obviously it won't work because tuples are immutable\n",
    "#for i,item in enumerate(my_tuple): \n",
    "#    if item == 'Mickey': \n",
    "#        my_tuple[i] = 'Donald'\n",
    "#    if item == 'Mouse': \n",
    "#        my_tuple[i] = 'Duck'\n",
    "        \n",
    "#print()\n",
    "#print(\"tupla Donald Duck:\", my_tuple)\n",
    "\n",
    "#let's try with a list\n",
    "\n",
    "my_list = list(my_tuple)\n",
    "\n",
    "for i,item in enumerate (my_list): \n",
    "    if item == 'Mickey': \n",
    "        my_list[i] = 'Donald'\n",
    "    if item == 'Mouse': \n",
    "        my_list[i] = 'Duck'\n",
    "\n",
    "print()\n",
    "print(\"list Donald Duck:\", my_list)\n"
   ]
  },
  {
   "cell_type": "markdown",
   "metadata": {},
   "source": [
    "2\\. The swap function\n",
    "\n",
    "Write a function that swap the values of two input variables x and y (whatever the type). Try to do that also without a temporary variable"
   ]
  },
  {
   "cell_type": "code",
   "execution_count": 4,
   "metadata": {},
   "outputs": [
    {
     "name": "stdout",
     "output_type": "stream",
     "text": [
      "(7, 5)\n",
      "(7, 5)\n"
     ]
    }
   ],
   "source": [
    "def swap_func(x,y): \n",
    "    couple = [x,y]\n",
    "    couple.reverse()\n",
    "    return couple[0], couple[1]\n",
    "\n",
    "x = 5\n",
    "y = 7\n",
    "print(swap_func(x,y))\n",
    "\n",
    "def swap_func_untemp(x,y): \n",
    "    x,y = y,x #Python creates a temporary tuple (y, x) and immediately unpacks it into the variables x and y, performing the swap without the need for additional variables. \n",
    "    return x,y\n",
    "\n",
    "print(swap_func_untemp(x,y))"
   ]
  },
  {
   "cell_type": "markdown",
   "metadata": {},
   "source": [
    "3\\. Computing the distance\n",
    "\n",
    "Write a function that calculates and returns the euclidean distance between two points *u* and *v*, where *u* and *v* are both 2-tuples *(x,y)*. For example, if *u=(3,0)* and *v=(0,4)*, the function should return 5"
   ]
  },
  {
   "cell_type": "code",
   "execution_count": 5,
   "metadata": {},
   "outputs": [
    {
     "name": "stdout",
     "output_type": "stream",
     "text": [
      "5.0\n"
     ]
    }
   ],
   "source": [
    "def eucl_dist(u,v): \n",
    "    result = pow((u[0]-v[0])**2+(u[1]-v[1])**2, 1/2)\n",
    "    return result\n",
    "\n",
    "u = (3,0)\n",
    "v = (0,4)\n",
    "\n",
    "print(eucl_dist(u,v))\n",
    "\n",
    "#If I also want to check that the arguments are 2-tuples\n",
    "def eucl_dist(u,v): \n",
    "    if not (isinstance(u, tuple) and isinstance(v, tuple) and len(u) == 2 and len(v) == 2): #isinstance(object, class_or_tuple) returns true if the object is part of that class, false otherwise\n",
    "        raise ValueError(\"Both inputs must be 2-tuples representing coordinates (x, y).\") # raise is a statement used to trigger an exception\n",
    "                                                                                         #You can create your own exceptions or use built-in exceptions to indicate that an error has occurred.\n",
    "                                                                                        #In this case, a ValueError exception is raised, and the message \"This is a custom error message.\" will be associated with that exception.\n",
    "    result = pow((u[0]-v[0])**2+(u[1]-v[1])**2, 1/2)\n",
    "    return result\n"
   ]
  },
  {
   "cell_type": "markdown",
   "metadata": {},
   "source": [
    "4\\. Counting letters\n",
    "\n",
    "Write a program to calculate the number of times each character occurs in a given string *s*. Ignore differneces in capitalization"
   ]
  },
  {
   "cell_type": "code",
   "execution_count": 30,
   "metadata": {},
   "outputs": [
    {
     "name": "stdout",
     "output_type": "stream",
     "text": [
      "frequencies of each character: {'1': 13, '2': 12, 'm': 53, 'i': 33, 'c': 33, 'k': 33, 'e': 53, 'y': 33, '4': 13, 'o': 20, 'u': 20, 's': 20, '7': 13, '8': 12, '3': 11, '6': 11, '9': 11, '5': 5}\n"
     ]
    }
   ],
   "source": [
    "s = \"Write a program that prints the numbers from 1 to 100. \\\n",
    "But for multiples of three print Mickey instead of the number and for the multiples of five print Mouse. \\\n",
    "For numbers which are multiples of both three and five print MickeyMouse\"\n",
    "\n",
    "#I can try to do it this time by using a comprehension N.B: this time numbers are strings otherwise I can't use .join\n",
    "s = [\"MickeyMouse\" if i % 3 == 0 and i % 5 == 0 else \"Mickey\" if i % 3 == 0 else \"Mouse\" if i % 5 == 0 else str(i) for i in range(1, 101)]\n",
    "#print(s) \n",
    "\n",
    "#First I need to concatenate all the elements of s in a unique string\n",
    "unique_string = ''.join(s).lower()\n",
    "#print(unique_string)\n",
    "\n",
    "#Then I can define a dictionary where I associate to each character its frequency\n",
    "freq = {}\n",
    "for char in unique_string: \n",
    "    if char in freq: \n",
    "        freq[char] += 1 #if the character is already in the dictionary increment its count\n",
    "    else: \n",
    "        freq[char] = 1 #otherwise add it to the dictionary\n",
    "print('frequencies of each character:',freq)\n"
   ]
  },
  {
   "cell_type": "markdown",
   "metadata": {},
   "source": [
    "5\\. Isolating the unique\n",
    "\n",
    "Write a function that determines and count the unique numbers in the list *l*"
   ]
  },
  {
   "cell_type": "code",
   "execution_count": 7,
   "metadata": {},
   "outputs": [
    {
     "name": "stdout",
     "output_type": "stream",
     "text": [
      "([58, 74, 96, 64, 10, 24, 19, 33, 86, 99, 18, 47, 88, 55, 54, 8, 79, 81, 57, 37, 1, 9, 95, 90, 98, 39, 16, 82, 92, 41, 30, 94, 5, 72, 87, 75, 53], 37)\n",
      "([58, 74, 96, 64, 10, 24, 19, 33, 86, 99, 18, 47, 88, 55, 54, 8, 79, 81, 57, 37, 1, 9, 95, 90, 98, 39, 16, 82, 92, 41, 30, 94, 5, 72, 87, 75, 53], 37)\n"
     ]
    }
   ],
   "source": [
    "l = [36, 45, 58, 3, 74, 96, 64, 45, 31, 10, 24, 19, 33, 86, 99, 18, 63, 70, 85,\n",
    " 85, 63, 47, 56, 42, 70, 84, 88, 55, 20, 54, 8, 56, 51, 79, 81, 57, 37, 91,\n",
    " 1, 84, 84, 36, 66, 9, 89, 50, 42, 91, 50, 95, 90, 98, 39, 16, 82, 31, 92, 41,\n",
    " 45, 30, 66, 70, 34, 85, 94, 5, 3, 36, 72, 91, 84, 34, 87, 75, 53, 51, 20, 89, 51, 20]\n",
    "\n",
    "def isolate(list): \n",
    "    freq = {}\n",
    "    result = []\n",
    "    count = 0\n",
    "    \n",
    "    for numb in list: \n",
    "        if numb in freq: \n",
    "            freq[numb] += 1\n",
    "        else: \n",
    "            freq[numb] = 1\n",
    "            \n",
    "    for item in freq.keys(): \n",
    "        if freq[item] == 1: \n",
    "            result.append(item)\n",
    "            count += 1\n",
    "    return result, count\n",
    "\n",
    "print(isolate(l))\n",
    "\n",
    "#Another way to do the same by using a single loop is:\n",
    "def find_unique_numbers(lst):\n",
    "    freq = {}\n",
    "    unique_count = 0\n",
    "    result = []\n",
    "\n",
    "    for num in lst:\n",
    "        if num in freq:\n",
    "            freq[num] += 1\n",
    "            if freq[num] ==2 :  # If it appears more than once, reduce unique count\n",
    "                unique_count -= 1\n",
    "                result.remove(num)  # Remove from result if it appears more than once\n",
    "        else:\n",
    "            freq[num] = 1\n",
    "            unique_count += 1\n",
    "            result.append(num)  # Add to result when it first appears\n",
    "\n",
    "    return result, unique_count\n",
    "\n",
    "print(find_unique_numbers(l))\n"
   ]
  },
  {
   "cell_type": "markdown",
   "metadata": {},
   "source": [
    "6\\. Combination of functions\n",
    "\n",
    "Write two functions - one that returns the square of a number, and one that returns the cube. Now write a third function that returns the number raised to the 6th power using the two previous functions."
   ]
  },
  {
   "cell_type": "code",
   "execution_count": 13,
   "metadata": {},
   "outputs": [
    {
     "name": "stdout",
     "output_type": "stream",
     "text": [
      "number using func: 64 number explicitly: 64\n"
     ]
    }
   ],
   "source": [
    "def square_fun(x): \n",
    "    result = x**2\n",
    "    return result\n",
    "\n",
    "def cube_func(x):\n",
    "    result = x**3\n",
    "    return result\n",
    "\n",
    "def combined_func(x):\n",
    "    result = cube_func(square_fun(x))\n",
    "    return result\n",
    "\n",
    "print('number using func:',combined_func(2), 'number explicitly:',2**6)"
   ]
  },
  {
   "cell_type": "markdown",
   "metadata": {},
   "source": [
    "7\\. Cubes\n",
    "\n",
    "Create a list of the cubes of x for x in *[0, 10]* using:\n",
    "\n",
    "a) a for loop\n",
    "\n",
    "b) a list comprehension"
   ]
  },
  {
   "cell_type": "code",
   "execution_count": 16,
   "metadata": {},
   "outputs": [
    {
     "name": "stdout",
     "output_type": "stream",
     "text": [
      "result with loop: [0, 1, 8, 27, 64, 125, 216, 343, 512, 729, 1000]\n",
      "result with list comprehension: [0, 1, 8, 27, 64, 125, 216, 343, 512, 729, 1000]\n"
     ]
    }
   ],
   "source": [
    "#Using a for loop\n",
    "result_loop = []\n",
    "for x in range (0,11): \n",
    "    y = x**3\n",
    "    result_loop.append(y)\n",
    "    \n",
    "#Using a list comprehension\n",
    "result_compr = [x**3 for x in range (0,11)]\n",
    "\n",
    "print(\"result with loop:\", result_loop)\n",
    "print(\"result with list comprehension:\", result_compr)"
   ]
  },
  {
   "cell_type": "markdown",
   "metadata": {},
   "source": [
    "8\\. Nested list comprehension\n",
    "\n",
    "A Pythagorean triple is an integer solution to the Pythagorean theorem $a^2+b^2=c^2$. The first Pythagorean triple is (3,4,5). Find and put in a tuple all unique Pythagorean triples for the positive integers a, b and c less than 100."
   ]
  },
  {
   "cell_type": "code",
   "execution_count": 27,
   "metadata": {},
   "outputs": [
    {
     "name": "stdout",
     "output_type": "stream",
     "text": [
      "((3, 4, 5), (4, 3, 5), (6, 8, 10), (8, 6, 10), (5, 12, 13), (12, 5, 13), (9, 12, 15), (12, 9, 15), (8, 15, 17), (15, 8, 17), (12, 16, 20), (16, 12, 20), (7, 24, 25), (15, 20, 25), (20, 15, 25), (24, 7, 25), (10, 24, 26), (24, 10, 26), (20, 21, 29), (21, 20, 29), (18, 24, 30), (24, 18, 30), (16, 30, 34), (30, 16, 34), (21, 28, 35), (28, 21, 35), (12, 35, 37), (35, 12, 37), (15, 36, 39), (36, 15, 39), (24, 32, 40), (32, 24, 40), (9, 40, 41), (40, 9, 41), (27, 36, 45), (36, 27, 45), (14, 48, 50), (30, 40, 50), (40, 30, 50), (48, 14, 50), (24, 45, 51), (45, 24, 51), (20, 48, 52), (48, 20, 52), (28, 45, 53), (45, 28, 53), (33, 44, 55), (44, 33, 55), (40, 42, 58), (42, 40, 58), (36, 48, 60), (48, 36, 60), (11, 60, 61), (60, 11, 61), (16, 63, 65), (25, 60, 65), (33, 56, 65), (39, 52, 65), (52, 39, 65), (56, 33, 65), (60, 25, 65), (63, 16, 65), (32, 60, 68), (60, 32, 68), (42, 56, 70), (56, 42, 70), (48, 55, 73), (55, 48, 73), (24, 70, 74), (70, 24, 74), (21, 72, 75), (45, 60, 75), (60, 45, 75), (72, 21, 75), (30, 72, 78), (72, 30, 78), (48, 64, 80), (64, 48, 80), (18, 80, 82), (80, 18, 82), (13, 84, 85), (36, 77, 85), (40, 75, 85), (51, 68, 85), (68, 51, 85), (75, 40, 85), (77, 36, 85), (84, 13, 85), (60, 63, 87), (63, 60, 87), (39, 80, 89), (80, 39, 89), (54, 72, 90), (72, 54, 90), (35, 84, 91), (84, 35, 91), (57, 76, 95), (76, 57, 95), (65, 72, 97), (72, 65, 97), (28, 96, 100), (60, 80, 100), (80, 60, 100), (96, 28, 100))\n",
      "\n",
      "((3, 4, 5), (6, 8, 10), (5, 12, 13), (9, 12, 15), (8, 15, 17), (12, 16, 20), (7, 24, 25), (15, 20, 25), (10, 24, 26), (20, 21, 29), (18, 24, 30), (16, 30, 34), (21, 28, 35), (12, 35, 37), (15, 36, 39), (24, 32, 40), (9, 40, 41), (27, 36, 45), (14, 48, 50), (30, 40, 50), (24, 45, 51), (20, 48, 52), (28, 45, 53), (33, 44, 55), (40, 42, 58), (36, 48, 60), (11, 60, 61), (16, 63, 65), (25, 60, 65), (33, 56, 65), (39, 52, 65), (32, 60, 68), (42, 56, 70), (48, 55, 73), (24, 70, 74), (21, 72, 75), (45, 60, 75), (30, 72, 78), (48, 64, 80), (18, 80, 82), (13, 84, 85), (36, 77, 85), (40, 75, 85), (51, 68, 85), (60, 63, 87), (39, 80, 89), (54, 72, 90), (35, 84, 91), (57, 76, 95), (65, 72, 97), (28, 96, 100), (60, 80, 100))\n"
     ]
    }
   ],
   "source": [
    "def hyp(cat1,cat2): #hypotenuse from cathetes\n",
    "    hyp = pow(cat1**2 + cat2**2, 1/2)\n",
    "    return hyp\n",
    "\n",
    "triples = ()\n",
    "for c in range (1,101): \n",
    "    for a in range (1,101): \n",
    "        for b in range (1,101):\n",
    "            if hyp(a,b) == c: \n",
    "                triple = (a,b,c)\n",
    "                triples = triples + ((a,b,c),)\n",
    "        \n",
    "print(triples)\n",
    "\n",
    "triples = ()\n",
    "#I could improve the code by eliminating the repetitions\n",
    "for c in range (1,101): \n",
    "    for a in range (1,101): \n",
    "        for b in range(a, 101):  # Ensure a <= b to avoid duplicates\n",
    "            if hyp(a,b) == c: \n",
    "                triple = (a,b,c)\n",
    "                triples = triples + ((a,b,c),)\n",
    "print()\n",
    "print(triples)"
   ]
  },
  {
   "cell_type": "markdown",
   "metadata": {},
   "source": [
    "9\\. Normalization\n",
    "\n",
    "Write a function that takes a tuple of numbers and returns it with the entries normalized to one"
   ]
  },
  {
   "cell_type": "code",
   "execution_count": 44,
   "metadata": {},
   "outputs": [
    {
     "name": "stdout",
     "output_type": "stream",
     "text": [
      "(0.16666666666666666, 0.3333333333333333, 0.5)\n",
      "1.0\n"
     ]
    }
   ],
   "source": [
    "def norm_tuple(tup): \n",
    "    norm_list = []\n",
    "    if not isinstance(tup, tuple): #check that the entry is a tuple\n",
    "        raise ValueError\n",
    "    else: \n",
    "        lst = list(tup)\n",
    "        norm = sum(lst)\n",
    "    for item in lst: \n",
    "        norm_list.append(item/norm)\n",
    "    return tuple(norm_list)\n",
    "        \n",
    "#Let's try to use it\n",
    "my_try = (1,2,3)\n",
    "print(norm_tuple(my_try))\n",
    "\n",
    "#Check if I'm normalizing it right\n",
    "#Notice: I'd have used the Euclidean norm only if I was interested in the sum of squares being one\n",
    "my_check = list(norm_tuple(my_try))\n",
    "print(sum(my_check))"
   ]
  },
  {
   "cell_type": "code",
   "execution_count": null,
   "metadata": {},
   "outputs": [],
   "source": []
  }
 ],
 "metadata": {
  "kernelspec": {
   "display_name": "Python 3 (ipykernel)",
   "language": "python",
   "name": "python3"
  },
  "language_info": {
   "codemirror_mode": {
    "name": "ipython",
    "version": 3
   },
   "file_extension": ".py",
   "mimetype": "text/x-python",
   "name": "python",
   "nbconvert_exporter": "python",
   "pygments_lexer": "ipython3",
   "version": "3.11.4"
  }
 },
 "nbformat": 4,
 "nbformat_minor": 2
}
