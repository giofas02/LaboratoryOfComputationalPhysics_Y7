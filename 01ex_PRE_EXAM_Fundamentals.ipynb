{
 "cells": [
  {
   "cell_type": "markdown",
   "metadata": {},
   "source": [
    "# EXAM SIMULATION: \n",
    "## Starting time: 16.30\n",
    "## End before: 18.30 --> I am at exercise 5 \n",
    "## Actual time at which I finished: 19.30\n",
    "\n",
    "#### Notice: \n",
    "             1. the exam is considered finished once you've pulled the exercise on your GitHub repository. \n",
    "             2. during the exam you don't have access to internet, only a few library instructions.  "
   ]
  },
  {
   "cell_type": "markdown",
   "metadata": {},
   "source": [
    "0\\. Implement a function (whatever you want) and save it to a file (e.g. `function.py`). Import that file and use that function in this notebook.\n"
   ]
  },
  {
   "cell_type": "markdown",
   "metadata": {},
   "source": [
    "def hey(name):\n",
    "    return f\"Hey {name}\"\n",
    "\n",
    "import inspect\n",
    "source_code = inspect.getsource(hey)\n",
    "with open('function.py', 'w') as file: \n",
    "    file.write(source_code)\n",
    "\n",
    "from function import hey\n",
    "print(hey('Gio'))\n",
    "\n",
    "with open('new_function.py', 'w') as file:\n",
    "    file.write(\"\"\"def echo(x): return x\"\"\")\n",
    "\n",
    "from new_function import echo\n",
    "print(echo('Echoing')) \n"
   ]
  },
  {
   "cell_type": "markdown",
   "metadata": {},
   "source": [
    "1\\. Write the following as a list comprehension"
   ]
  },
  {
   "cell_type": "markdown",
   "metadata": {},
   "source": [
    "ans = [] \\\n",
    "for i in range(3): \\\n",
    "    for j in range(4): \\\n",
    "        ans.append((i, j)) \\\n",
    "print (ans) \n",
    "\n",
    "ans = map(lambda x: x*x, filter(lambda x: x%2 == 0, range(5))) \\\n",
    "print (list(ans))\n",
    "\n"
   ]
  },
  {
   "cell_type": "code",
   "execution_count": 1,
   "metadata": {},
   "outputs": [
    {
     "name": "stdout",
     "output_type": "stream",
     "text": [
      "[(0, 0), (0, 1), (0, 2), (0, 3), (1, 0), (1, 1), (1, 2), (1, 3), (2, 0), (2, 1), (2, 2), (2, 3)]\n",
      "[0, 4, 16]\n"
     ]
    }
   ],
   "source": [
    "# First list\n",
    "list1 = [(i,j) for i in range(3) for j in range(4)]\n",
    "print(list1)\n",
    "\n",
    "# Second list\n",
    "list2 = [x*x for x in range(5) if x%2 == 0]\n",
    "print(list2)"
   ]
  },
  {
   "cell_type": "markdown",
   "metadata": {},
   "source": [
    "2\\. Convert the following function into a pure function with no global variables or side effects"
   ]
  },
  {
   "cell_type": "code",
   "execution_count": 5,
   "metadata": {},
   "outputs": [
    {
     "name": "stdout",
     "output_type": "stream",
     "text": [
      "[1, 2, 3, 0, 1, 2, 3, 4]\n",
      "[1, 2, 3, 0, 1, 2, 3, 4]\n",
      "[1, 2, 3, 0, 1, 2, 3, 4]\n",
      "[1, 2, 3]\n"
     ]
    }
   ],
   "source": [
    "x = 5\n",
    "def f(alist):\n",
    "    for i in range(x):\n",
    "         alist.append(i)\n",
    "    return alist\n",
    "\n",
    "alist = [1,2,3]\n",
    "ans = f(alist)\n",
    "print (ans)\n",
    "print (alist) # alist has been changed!\n",
    "\n",
    "# No global variables means I don't want to get x from outside the function.\n",
    "# We'll either not make it variable or pass it in as argument\n",
    "# Moreover in order to leave unchanged alist, we need to pass it as a copy adding [:] or newlist.copy()\n",
    "\n",
    "def new_f(newlist, newx): \n",
    "    for i in range(newx): \n",
    "        newlist.append(i)\n",
    "    return newlist\n",
    "\n",
    "newlist = [1,2,3]\n",
    "newans = f(newlist[:])\n",
    "print(newans)\n",
    "print(newlist)"
   ]
  },
  {
   "cell_type": "markdown",
   "metadata": {},
   "source": [
    "3\\. Write a `decorator` hello that makes every wrapped function print “Hello!”, i.e. something like:\n",
    "\n",
    "```python\n",
    "@hello\n",
    "def square(x):\n",
    "    return x*x \n",
    "```\n",
    "\n"
   ]
  },
  {
   "cell_type": "code",
   "execution_count": 20,
   "metadata": {},
   "outputs": [
    {
     "name": "stdout",
     "output_type": "stream",
     "text": [
      "Hello!\n",
      "4\n"
     ]
    }
   ],
   "source": [
    "def hello(func): \n",
    "    def wrapper(*args, **kwargs):\n",
    "        print(\"Hello!\")\n",
    "        return func(*args, **kwargs)\n",
    "    return wrapper\n",
    "\n",
    "@hello \n",
    "def square(x):\n",
    "    return x*x\n",
    "\n",
    "print(square(2))"
   ]
  },
  {
   "cell_type": "markdown",
   "metadata": {},
   "source": [
    "4\\. Write the factorial function so that it a) does and b) does not use recursion."
   ]
  },
  {
   "cell_type": "code",
   "execution_count": 37,
   "metadata": {},
   "outputs": [
    {
     "name": "stdout",
     "output_type": "stream",
     "text": [
      "24\n",
      "24\n"
     ]
    }
   ],
   "source": [
    "def norec_fact(n):\n",
    "    res = 1\n",
    "    for i in range(1,n+1):\n",
    "        res = i*res\n",
    "    return res\n",
    "        \n",
    "print(norec_fact(4))\n",
    "\n",
    "def rec_fact(n): \n",
    "    if n == 0 or n == 1: \n",
    "        return 1\n",
    "    else: \n",
    "        return n * rec_fact(n-1)\n",
    "\n",
    "print(rec_fact(4))"
   ]
  },
  {
   "cell_type": "markdown",
   "metadata": {},
   "source": [
    "5\\. Use HOFs (zip in particular) to compute the weight of a circle, a disk and a sphere, assuming different radii and different densities:\n",
    "\n",
    "```python\n",
    "densities = {\"Al\":[0.5,1,2],\"Fe\":[3,4,5],\"Pb\": [15,20,30]}\n",
    "radii = [1,2,3]\n",
    "```\n",
    "\n",
    "where the entries of the dictionary's values are the linear, superficial and volumetric densities of the materials respectively.\n",
    "\n",
    "In particular define a list of three lambda functions using a comprehension that computes the circumference, the area and the volume for a given radius.\n"
   ]
  },
  {
   "cell_type": "code",
   "execution_count": 27,
   "metadata": {},
   "outputs": [
    {
     "name": "stdout",
     "output_type": "stream",
     "text": [
      "Material: Al\n",
      "  Radius 1: Circumference = 3.14, Area = 3.14, Volume = 8.38\n",
      "  Radius 2: Circumference = 6.28, Area = 12.57, Volume = 67.02\n",
      "  Radius 3: Circumference = 9.42, Area = 28.27, Volume = 226.19\n",
      "Material: Fe\n",
      "  Radius 1: Circumference = 18.85, Area = 12.57, Volume = 20.94\n",
      "  Radius 2: Circumference = 37.70, Area = 50.27, Volume = 167.55\n",
      "  Radius 3: Circumference = 56.55, Area = 113.10, Volume = 565.49\n",
      "Material: Pb\n",
      "  Radius 1: Circumference = 94.25, Area = 62.83, Volume = 125.66\n",
      "  Radius 2: Circumference = 188.50, Area = 251.33, Volume = 1005.31\n",
      "  Radius 3: Circumference = 282.74, Area = 565.49, Volume = 3392.92\n",
      "dict_items([('Al', [0.5, 1, 2]), ('Fe', [3, 4, 5]), ('Pb', [15, 20, 30])])\n"
     ]
    }
   ],
   "source": [
    "from math import pi\n",
    "\n",
    "# Lambda functions for circumference, area, and volume\n",
    "geometric_functions = [\n",
    "    lambda r: 2 * pi * r,            # Circumference\n",
    "    lambda r: pi * r**2,            # Area\n",
    "    lambda r: (4 / 3) * pi * r**3   # Volume\n",
    "]\n",
    "\n",
    "densities = {\"Al\": [0.5, 1, 2], \"Fe\": [3, 4, 5], \"Pb\": [15, 20, 30]}\n",
    "radii = [1, 2, 3]\n",
    "\n",
    "# Compute weights for each material\n",
    "weights = {\n",
    "    material: [\n",
    "        [\n",
    "            density * func(radius)  # Compute weight\n",
    "            for density, func in zip(density_list, geometric_functions)\n",
    "        ]\n",
    "        for radius in radii\n",
    "    ]\n",
    "    for material, density_list in densities.items()\n",
    "}\n",
    "\n",
    "# Display results\n",
    "for material, computations in weights.items():\n",
    "    print(f\"Material: {material}\")\n",
    "    for i, (radius, weight_set) in enumerate(zip(radii, computations)):\n",
    "        print(f\"  Radius {radius}: Circumference = {weight_set[0]:.2f}, Area = {weight_set[1]:.2f}, Volume = {weight_set[2]:.2f}\")\n",
    "\n",
    "print(densities.items())"
   ]
  },
  {
   "cell_type": "markdown",
   "metadata": {},
   "source": [
    "6\\. Edit the class defintion to add an instance attribute of is_hungry = True to the Dog class. Then add a method called eat() which changes the value of is_hungry to False when called. Figure out the best way to feed each dog and then output “My dogs are hungry.” if all are hungry or “My dogs are not hungry.” if all are not hungry. The final output should look like this:\n",
    "\n",
    "`I have 3 dogs. \n",
    "Tom is 6. \n",
    "Fletcher is 7. \n",
    "Larry is 9. \n",
    "And they're all mammals, of course. \n",
    "My dogs are not hungry.\n",
    "`\n"
   ]
  },
  {
   "cell_type": "code",
   "execution_count": 1,
   "metadata": {},
   "outputs": [
    {
     "name": "stdout",
     "output_type": "stream",
     "text": [
      "Tom is 6 years old. Fletcher is 7 years old. Larry is 9 years old. They're all mammal, of course.\n",
      "Not all the dogs are hungry yet.\n"
     ]
    }
   ],
   "source": [
    "import numpy as np\n",
    "# Parent class\n",
    "class Dog:\n",
    "\n",
    "    # Class attribute\n",
    "    species = 'mammal'\n",
    "\n",
    "    # Initializer / Instance attributes\n",
    "    def __init__(self, name, age, is_hungry):\n",
    "        self.name = name\n",
    "        self.age = age\n",
    "        self.is_hungry = is_hungry\n",
    "\n",
    "    # instance method\n",
    "    def description(self):\n",
    "        return \"{} is {} years old\".format(self.name, self.age)\n",
    "\n",
    "    # instance method\n",
    "    def speak(self, sound):\n",
    "        return \"{} says {}\".format(self.name, sound)\n",
    "\n",
    "    # instance method\n",
    "    def eat(self):\n",
    "        if self.is_hungry == True:\n",
    "            self.is_hungry = False\n",
    "        return \"{} has eaten\".format(self.name)\n",
    "\n",
    "\n",
    "# Child class (inherits from Dog class)\n",
    "class RussellTerrier(Dog):\n",
    "    def run(self, speed):\n",
    "        return \"{} runs {}\".format(self.name, speed)\n",
    "\n",
    "# Child class (inherits from Dog class)\n",
    "class Bulldog(Dog):\n",
    "    def run(self, speed):\n",
    "        return \"{} runs {}\".format(self.name, speed)\n",
    "\n",
    "my_dogs = [Dog('Tom', 6, False), Dog('Fletcher', 7, True), Dog('Larry', 9, True)]\n",
    "\n",
    "def hunger_status(my_dogs): \n",
    "    print(f\"{\". \".join([dog.description() for dog in my_dogs])}. They're all {Dog.species}, of course.\")\n",
    "    if np.all([dog.is_hungry for dog in my_dogs]): \n",
    "        print(\"All my dogs are hungry... let's feed them...\")\n",
    "        for dog in my_dogs: \n",
    "            dog.eat()\n",
    "    else: \n",
    "        print(\"Not all the dogs are hungry yet.\")\n",
    "    if np.all([not dog.is_hungry for dog in my_dogs]): \n",
    "        print(\"My dogs are not hungry\")\n",
    "\n",
    "hunger_status(my_dogs)"
   ]
  },
  {
   "cell_type": "code",
   "execution_count": null,
   "metadata": {},
   "outputs": [],
   "source": []
  }
 ],
 "metadata": {
  "kernelspec": {
   "display_name": "Python 3 (ipykernel)",
   "language": "python",
   "name": "python3"
  },
  "language_info": {
   "codemirror_mode": {
    "name": "ipython",
    "version": 3
   },
   "file_extension": ".py",
   "mimetype": "text/x-python",
   "name": "python",
   "nbconvert_exporter": "python",
   "pygments_lexer": "ipython3",
   "version": "3.12.7"
  }
 },
 "nbformat": 4,
 "nbformat_minor": 4
}
