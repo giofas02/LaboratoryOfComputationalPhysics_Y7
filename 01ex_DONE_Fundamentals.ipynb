{
 "cells": [
  {
   "cell_type": "markdown",
   "metadata": {},
   "source": [
    "0\\. Implement a function (whatever you want) and save it to a file (e.g. `function.py`). Import that file and use that function in this notebook.\n"
   ]
  },
  {
   "cell_type": "code",
   "execution_count": 20,
   "metadata": {},
   "outputs": [
    {
     "name": "stdout",
     "output_type": "stream",
     "text": [
      "5\n",
      "1\n"
     ]
    }
   ],
   "source": [
    "#I actually have many ways to do this. Let's see two possibilities. \n",
    "\n",
    "#-----------------------------------------------------------------------------------------------------------#\n",
    "\n",
    "#Open a new file and write the function directly in it. \n",
    "with open('my_functions.py', 'w') as file: #open('filename.txt', 'w') opens (or creates) a file in write mode ('w')\n",
    "                                          #write() saves the content (in this case, the string) to the file.\n",
    "                                          #The with statement ensures the file is properly closed after writing.\n",
    "    file.write(\"\"\"                        \n",
    "def my_sum(x,y):\n",
    "    return x+y\n",
    "\"\"\")                                      #NOTICE here to put three\" inside, and the file.write which always stars with FILE independently of my file's name\n",
    "\n",
    "from my_functions import my_sum\n",
    "print(my_sum(3,2))\n",
    "\n",
    "#-----------------------------------------------------------------------------------------------------------#\n",
    "#Another way is to first write the function and then save it in a file\n",
    "import inspect\n",
    "import importlib\n",
    "\n",
    "def my_subtraction(x,y): \n",
    "    return x-y\n",
    "\n",
    "source_code = inspect.getsource(my_subtraction) # Use inspect to get the source code of the function\n",
    "\n",
    "with open('my_functions.py', 'w') as file: # Write the source code to a file\n",
    "    file.write(source_code)\n",
    "                              \n",
    "import my_functions\n",
    "importlib.reload(my_functions) # Now, force reload the module to ensure it reads the newly written file\n",
    "\n",
    "from my_functions import my_subtraction # Import the function from the newly written file\n",
    "\n",
    "print(my_subtraction(3,2))"
   ]
  },
  {
   "cell_type": "markdown",
   "metadata": {},
   "source": [
    "1\\. Write the following as a list comprehension"
   ]
  },
  {
   "cell_type": "code",
   "execution_count": 56,
   "metadata": {},
   "outputs": [
    {
     "name": "stdout",
     "output_type": "stream",
     "text": [
      "cylce ans1: [(0, 0), (0, 1), (0, 2), (0, 3), (1, 0), (1, 1), (1, 2), (1, 3), (2, 0), (2, 1), (2, 2), (2, 3)]\n",
      "map ans2: [0, 4, 16]\n",
      "comprehension ans1: [(0, 0), (0, 1), (0, 2), (0, 3), (1, 0), (1, 1), (1, 2), (1, 3), (2, 0), (2, 1), (2, 2), (2, 3)]\n",
      "comprehension ans2: [0, 4, 16]\n"
     ]
    }
   ],
   "source": [
    "\n",
    "# 1\n",
    "ans1 = []\n",
    "for i in range(3):\n",
    "    for j in range(4):\n",
    "        ans1.append((i, j))\n",
    "print (\"cylce ans1:\", ans1)\n",
    "\n",
    "# 2\n",
    "ans2 = map(lambda x: x*x, filter(lambda x: x%2 == 0, range(5)))\n",
    "print (\"map ans2:\", list(ans2))\n",
    "\n",
    "#---------------------------------------------------------------------#\n",
    "\n",
    "#1\n",
    "my_ans1 = [(i,j) for i in range(3) for j in range(4)]\n",
    "print(\"comprehension ans1:\", my_ans1)\n",
    "\n",
    "#2\n",
    "my_ans2 = [x*x for x in range(5) if x%2 == 0]\n",
    "print(\"comprehension ans2:\", my_ans2)"
   ]
  },
  {
   "cell_type": "markdown",
   "metadata": {},
   "source": [
    "2\\. Convert the following function into a pure function with no global variables or side effects"
   ]
  },
  {
   "cell_type": "code",
   "execution_count": 64,
   "metadata": {},
   "outputs": [
    {
     "name": "stdout",
     "output_type": "stream",
     "text": [
      "alist before calling f: [1, 2, 3]\n",
      "ans: [1, 2, 3, 0, 1, 2, 3, 4]\n",
      "alist [1, 2, 3, 0, 1, 2, 3, 4]\n",
      "\n",
      "my_ans: [1, 2, 3, 0, 1, 2, 3, 4]\n",
      "my_alist: [1, 2, 3]\n",
      "\n",
      "my_givenlist after calling app_func: [3, 4, 5]\n",
      "actual_ans: [3, 4, 5, 0, 1, 0, 1]\n"
     ]
    }
   ],
   "source": [
    "x = 5\n",
    "def f(alist):\n",
    "    for i in range(x):\n",
    "         alist.append(i)\n",
    "    return alist #this functions adds to a list the numbers 0,...,4\n",
    "\n",
    "alist = [1,2,3]\n",
    "print(\"alist before calling f:\",alist)\n",
    "ans = f(alist)\n",
    "print (\"ans:\",ans)\n",
    "print (\"alist\",alist) # alist has been changed! This is because f changes the original list\n",
    "print()\n",
    "#---------------------------------------------------------------------------------------------#\n",
    "\n",
    "#A way of not getting this change is by passing to f a copy of alist by using alist[:]\n",
    "\n",
    "x = 5\n",
    "def f(alist):\n",
    "    for i in range(x):\n",
    "        alist.append(i)\n",
    "    return alist\n",
    "\n",
    "alist = [1, 2, 3]\n",
    "ans = f(alist[:])  # Pass a copy of the list, using alist[:]\n",
    "print(\"my_ans:\", ans)  # Modified copy of the list\n",
    "print(\"my_alist:\", alist)  # Original list remains unchanged\n",
    "print()\n",
    "\n",
    "#-----------------------------------------------------------------------------------------------#\n",
    "#Btw answering the exercise: \n",
    "#To convert the given function into a pure function (which does not rely on global variables and has no side effects)\n",
    "#We need to remove the dependency on the global variable x and ensure that the function does not modify the input list alist directly.\n",
    "#Instead, it should return a new list with the desired values.\n",
    "\n",
    "def app_func(somelist, interval): \n",
    "    #new_list = somelist             #gets still changed because in the function I'm just renaming somelist\n",
    "    #new_list = somelist[:]          #this works!\n",
    "    new_list = somelist + [i for i in range(interval)]                  #this is just another way\n",
    "    for i in range(interval): \n",
    "        new_list.append(i)\n",
    "    return new_list\n",
    "\n",
    "my_givenlist = [3,4,5]\n",
    "actual_ans = app_func(my_givenlist,2)\n",
    "\n",
    "print(\"my_givenlist after calling app_func:\",my_givenlist) \n",
    "print(\"actual_ans:\",actual_ans)\n"
   ]
  },
  {
   "cell_type": "markdown",
   "metadata": {},
   "source": [
    "NOTICE: in the previous example, \"interval\" is not a global variable; it is defined locally within the scope of the code snippet. However, if you meant to ensure that n is not treated as a global variable at all, you can make sure that it is strictly a parameter of the function and not defined outside it.\n",
    "\n",
    "def f(alist, n): \n",
    "\n",
    "    # Create a new list that includes the original alist plus numbers from 0 to n-1\n",
    "    \n",
    "    new_list = alist + [i for i in range(n)]\n",
    "    \n",
    "    return new_list\n",
    "\n",
    "def main():\n",
    "\n",
    "    # Define the input list and the number of elements to add\n",
    "    \n",
    "    alist = [1, 2, 3]\n",
    "    \n",
    "    n = 5  # Number of elements to add\n",
    "\n",
    "    print(\"alist before calling f:\", alist)\n",
    "    ans = f(alist, n)  # Call f with alist and n as arguments\n",
    "    print(\"ans:\", ans)  # This will show the modified output\n",
    "    print(\"alist:\", alist)  # Original list remains unchanged\n",
    "\n",
    "#Call the main function to execute the code\n",
    "\n",
    "main()\n"
   ]
  },
  {
   "cell_type": "markdown",
   "metadata": {},
   "source": [
    "3\\. Write a `decorator` hello that makes every wrapped function print “Hello!”, i.e. something like:\n",
    "\n",
    "```python\n",
    "@hello\n",
    "def square(x):\n",
    "    return x*x\n",
    "```"
   ]
  },
  {
   "cell_type": "code",
   "execution_count": 78,
   "metadata": {},
   "outputs": [
    {
     "name": "stdout",
     "output_type": "stream",
     "text": [
      "Hello!\n",
      "Result: 25\n",
      "\n",
      "Hello!\n",
      "Only hello: None\n"
     ]
    }
   ],
   "source": [
    "def hello(func):\n",
    "    def wrapper(*args, **kwargs):\n",
    "        print(\"Hello!\")  # Print \"Hello!\" before calling the wrapped function\n",
    "        return func(*args, **kwargs)  # Call the original function:  *args and **kwargs in the wrapper function allow it to accept any number of positional and keyword arguments, making the decorator flexible.\n",
    "    return wrapper\n",
    "\n",
    "@hello  # Use the decorator\n",
    "def square(x):\n",
    "    return x * x\n",
    "\n",
    "# Example usage\n",
    "result = square(5)\n",
    "print(\"Result:\", result)\n",
    "\n",
    "#------------------------------------------------------------------------------------------------------------------------#\n",
    "#If instead I didn't want the result to be printed out, but only \"Hello!\", I'd put\n",
    "\n",
    "def hello(func):\n",
    "    def wrapper(*args, **kwargs):\n",
    "        print(\"Hello!\")  # Print \"Hello!\" before calling the wrapped function\n",
    "        func(*args, **kwargs)  # Call the original function, but do not return its result\n",
    "    return wrapper\n",
    "\n",
    "@hello  # Use the decorator\n",
    "def square(x):\n",
    "    return x * x  # This will not be printed\n",
    "\n",
    "# Example usage\n",
    "print()\n",
    "print(\"Only hello:\",square(5))  # Calls the function, but does not print the result\n"
   ]
  },
  {
   "cell_type": "markdown",
   "metadata": {},
   "source": [
    "4\\. Write the factorial function so that it a) does and b) does not use recursion."
   ]
  },
  {
   "cell_type": "code",
   "execution_count": 3,
   "metadata": {},
   "outputs": [
    {
     "name": "stdout",
     "output_type": "stream",
     "text": [
      "720\n",
      "720\n"
     ]
    }
   ],
   "source": [
    "#Using recursion: x(x-1)...(x-x+1)\n",
    "def recfac(x): \n",
    "    for i in range (2,x+1):\n",
    "        x = x*(i-1)\n",
    "    return x\n",
    "\n",
    "print(recfac(6))\n",
    "\n",
    "#Without recursion \n",
    "def norecfac(x):\n",
    "    result = 1\n",
    "    for i in range(2, x + 1):\n",
    "        result *= i\n",
    "    return result\n",
    "\n",
    "print(norecfac(6))"
   ]
  },
  {
   "cell_type": "markdown",
   "metadata": {},
   "source": [
    "5\\. Use HOFs (zip in particular) to compute the weight of a circle, a disk and a sphere, assuming different radii and different densities:\n",
    "\n",
    "```python\n",
    "densities = {\"Al\":[0.5,1,2],\"Fe\":[3,4,5],\"Pb\": [15,20,30]}\n",
    "radii = [1,2,3]\n",
    "```\n",
    "\n",
    "where the entries of the dictionary's values are the linear, superficial and volumetric densities of the materials respectively.\n",
    "\n",
    "In particular define a list of three lambda functions using a comprehension that computes the circumference, the area and the volume for a given radius.\n"
   ]
  },
  {
   "cell_type": "markdown",
   "metadata": {},
   "source": [
    "6\\. Edit the class defintion to add an instance attribute of is_hungry = True to the Dog class. Then add a method called eat() which changes the value of is_hungry to False when called. Figure out the best way to feed each dog and then output “My dogs are hungry.” if all are hungry or “My dogs are not hungry.” if all are not hungry. The final output should look like this:\n",
    "\n",
    "`I have 3 dogs. \n",
    "Tom is 6. \n",
    "Fletcher is 7. \n",
    "Larry is 9. \n",
    "And they're all mammals, of course. \n",
    "My dogs are not hungry.\n",
    "`\n",
    "\n",
    "```python\n",
    "# Parent class\n",
    "class Dog:\n",
    "\n",
    "    # Class attribute\n",
    "    species = 'mammal'\n",
    "\n",
    "    # Initializer / Instance attributes\n",
    "    def __init__(self, name, age):\n",
    "        self.name = name\n",
    "        self.age = age\n",
    "\n",
    "    # instance method\n",
    "    def description(self):\n",
    "        return \"{} is {} years old\".format(self.name, self.age)\n",
    "\n",
    "    # instance method\n",
    "    def speak(self, sound):\n",
    "        return \"{} says {}\".format(self.name, sound)\n",
    "\n",
    "# Child class (inherits from Dog class)\n",
    "class RussellTerrier(Dog):\n",
    "    def run(self, speed):\n",
    "        return \"{} runs {}\".format(self.name, speed)\n",
    "\n",
    "# Child class (inherits from Dog class)\n",
    "class Bulldog(Dog):\n",
    "    def run(self, speed):\n",
    "        return \"{} runs {}\".format(self.name, speed)\n",
    "```"
   ]
  },
  {
   "cell_type": "code",
   "execution_count": 20,
   "metadata": {},
   "outputs": [
    {
     "name": "stdout",
     "output_type": "stream",
     "text": [
      "I have 3 dogs.\n",
      "Tom is 6 years old\n",
      "Fletcher is 7 years old\n",
      "Larry is 9 years old\n",
      "And they're all mammals, of course.\n",
      "My dogs are not hungry.\n",
      "My dogs are not hungry.\n"
     ]
    }
   ],
   "source": [
    "# Parent class\n",
    "class Dog:\n",
    "\n",
    "    # Class attribute\n",
    "    species = 'mammal'\n",
    "   \n",
    "    # Initializer / Instance attributes\n",
    "    def __init__(self, name, age):\n",
    "        self.name = name\n",
    "        self.age = age\n",
    "        self.is_hungry = True #New instance attribute added\n",
    "        \n",
    "    # instance method\n",
    "    def description(self):\n",
    "        return \"{} is {} years old\".format(self.name, self.age)\n",
    "\n",
    "    # instance method\n",
    "    def speak(self, sound):\n",
    "        return \"{} says {}\".format(self.name, sound)\n",
    "    \n",
    "    # # New method to change is_hungry status\n",
    "    def eat(self):\n",
    "        self.is_hungry = False\n",
    "\n",
    "# Child class (inherits from Dog class)\n",
    "class RussellTerrier(Dog):\n",
    "    def run(self, speed):\n",
    "        return \"{} runs {}\".format(self.name, speed)\n",
    "\n",
    "# Child class (inherits from Dog class)\n",
    "class Bulldog(Dog):\n",
    "    def run(self, speed):\n",
    "        return \"{} runs {}\".format(self.name, speed)\n",
    "    \n",
    "# Creating instances of dogs\n",
    "dogs = [\n",
    "    Dog(\"Tom\", 6),\n",
    "    Dog(\"Fletcher\", 7),\n",
    "    Dog(\"Larry\", 9)\n",
    "]\n",
    "\n",
    "# Output initial information\n",
    "print(f\"I have {len(dogs)} dogs.\") #notice that I can use .format also in this way\n",
    "for dog in dogs:\n",
    "    print(dog.description())\n",
    "print(\"And they're all {}s, of course.\".format(Dog.species))\n",
    "\n",
    "# Feeding all dogs\n",
    "for dog in dogs:\n",
    "    dog.eat()\n",
    "    \n",
    "# Check if all dogs are not hungry\n",
    "if all(not dog.is_hungry for dog in dogs):\n",
    "    print(\"My dogs are not hungry.\")\n",
    "else:\n",
    "    print(\"My dogs are hungry.\")\n",
    "    \n",
    "#Another way (less direct) to do the same last passage would have been\n",
    "flag = True\n",
    "for dog in dogs: \n",
    "    if dog.is_hungry == True: \n",
    "        print(dog, \"is still hungry\")\n",
    "        flag == False\n",
    "    else: \n",
    "        continue\n",
    "if flag == True: \n",
    "    print(\"My dogs are not hungry.\")\n",
    "    \n"
   ]
  },
  {
   "cell_type": "code",
   "execution_count": null,
   "metadata": {},
   "outputs": [],
   "source": []
  }
 ],
 "metadata": {
  "kernelspec": {
   "display_name": "Python 3 (ipykernel)",
   "language": "python",
   "name": "python3"
  },
  "language_info": {
   "codemirror_mode": {
    "name": "ipython",
    "version": 3
   },
   "file_extension": ".py",
   "mimetype": "text/x-python",
   "name": "python",
   "nbconvert_exporter": "python",
   "pygments_lexer": "ipython3",
   "version": "3.11.4"
  }
 },
 "nbformat": 4,
 "nbformat_minor": 2
}
