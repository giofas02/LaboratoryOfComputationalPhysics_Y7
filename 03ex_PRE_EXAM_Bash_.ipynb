{
 "cells": [
  {
   "cell_type": "markdown",
   "id": "b5746bd0",
   "metadata": {},
   "source": [
    "The following exercises are meant to be solved by gathering the bash commands incrimentally in two scripts, one for ex 1.* the other for ex 2.* "
   ]
  },
  {
   "cell_type": "markdown",
   "id": "4e60de78",
   "metadata": {},
   "source": [
    "### Ex 1"
   ]
  },
  {
   "cell_type": "markdown",
   "id": "6759df36",
   "metadata": {},
   "source": [
    "1\\.a Make a new directory called `students` in your home. Download a csv file with the list of students of this lab from [here](https://www.dropbox.com/s/867rtx3az6e9gm8/LCP_22-23_students.csv) (use the `wget` command) and copy that to `students`. First check whether the file is already there"
   ]
  },
  {
   "cell_type": "code",
   "execution_count": 42,
   "id": "06bcd3c2-573e-4c79-8631-ba64067f5fec",
   "metadata": {},
   "outputs": [
    {
     "name": "stdout",
     "output_type": "stream",
     "text": [
      "/Users/giorgiafasiolo/Documents/UniPd/1st semester/LaboratoryOfComputationalPhysics_Y7/03ex_PRE_EXAM_bash\n",
      "/Users/giorgiafasiolo/Documents/UniPd/1st semester/LaboratoryOfComputationalPhysics_Y7/03ex_PRE_EXAM_bash\n",
      "03ex_PRE_EXAM_Bash_.ipynb PoD_students.csv\n",
      "Physics_students.csv      \u001b[34mstudents\u001b[m\u001b[m\n",
      "  % Total    % Received % Xferd  Average Speed   Time    Time     Time  Current\n",
      "                                 Dload  Upload   Total   Spent    Left  Speed\n",
      "100    17  100    17    0     0     24      0 --:--:-- --:--:-- --:--:--    24\n",
      "100  4405  100  4405    0     0   3682      0  0:00:01  0:00:01 --:--:--  3682\n"
     ]
    }
   ],
   "source": [
    "#!mkdir students\n",
    "! cd students\n",
    "! pwd\n",
    "! ls | grep \"LCP_22-23_students.csv\"\n",
    "! cd - \n",
    "! pwd\n",
    "! ls\n",
    "!cd students\n",
    "#!curl -L -O \"https://www.dropbox.com/scl/fi/bxv17nrbrl83vw6qrkiu9/LCP_22-23_students.csv?rlkey=47fakvatrtif3q3qw4q97p5b7&e=1&st=aaqcfx3y\"\n",
    "#! cp LCP_22-23_students.csv students"
   ]
  },
  {
   "cell_type": "markdown",
   "id": "798c0c9d",
   "metadata": {},
   "source": [
    "1\\.b Make two new files, one containing the students belonging to PoD, the other to Physics."
   ]
  },
  {
   "cell_type": "code",
   "execution_count": 43,
   "id": "7adc924d-5fc1-4da2-8c0b-5e4b969c2e60",
   "metadata": {},
   "outputs": [
    {
     "name": "stdout",
     "output_type": "stream",
     "text": [
      "Family name(s),Given name(s),E-mail,Master program\n",
      "Akkara,Jelin Raphael,jelinraphael.akkara@studenti.unipd.it,PoD\n",
      "Altamirano,Davide,davidalejandro.altamiranocoello@studenti.unipd.it,PoD\n",
      "Badami,Hessan,mohammadhessan.badami@studenti.unipd.it,PoD\n",
      "Baghaei Saryazdi,Fateme,fateme.baghaeisaryazdi@studenti.unipd.it,PoD\n",
      "Barbiero,Lorenzo,lorenzo.barbiero.1@studenti.unipd.it,PoD\n",
      "Bedin,Veronica,veronica.bedin.1@studenti.unipd.it,PoD\n",
      "Benito,Guillermo,guillermo.benitocalvino@studenti.unipd.it,PoD\n",
      "Bertininelli,Gabriele,gabriele.bertinelli@studenti.unipd.it,PoD\n",
      "Bertola,Tommaso,tommaso.bertola@studenti.unipd.it,PoD\n",
      "Bhatti,Roben,roben.bhatti@studenti.unipd.it,PoD\n",
      "Bonato,Diego,diego.bonato.1@studenti.unipd.it,PoD\n",
      "Bordin,Guglielmo,guglielmo.bordin@studenti.unipd.it,PoD\n",
      "Breccia,Alessandro,alessandro.breccia@studenti.unipd.it,PoD\n",
      "Brisigotti,Erica,10698739@unipd.it / ericabrisigotti@gmail.com,PoD\n",
      "Checchia,Davide,davide.checchia@studenti.unipd.it,PoD\n",
      "Chiloiro,Marco,marco.chiloiro@studenti.unipd.it,PoD\n",
      "Chueva,Ekaterina ,ekaterina.chueva@studenti.unipd.it,PoD\n",
      "Dall'Ara ,Marco ,marco.dallara.1@studenti.unipd.it,PoD\n",
      "Davide,Bacilieri,davide.bacilieri@studenti.unipd.it,PoD\n",
      "De Vita,Andrea,andrea.devita.1@studenti.unipd.it,PoD\n",
      "Di Prima,Giacomo,giacomo.diprima@studenti.unipd.it,PoD\n",
      "Divari,Carlo,carlo.divari@studenti.unipd.it,PoD\n",
      "Dodampe Gamage,Eran,erankawinda.dodampegamage@studenti.unipd.it,PoD\n",
      "Eslami shafigh,Ehsan,ehsan.eslamishafigh@studenti.unipd.it,PoD\n",
      "Feltrin,Antonio,antonio.feltrin@studenti.unipd.it,PoD\n",
      "Garbo ,Anna,anna.garbo.2@studenti.unipd.it,PoD\n",
      "Ghaemifar,Sepideh,sepideh.ghaemifar@studenti.unipd.it,PoD\n",
      "Golan,Rodrigo,rodrigo.golan@studenti.unipd.it,PoD\n",
      "Guercio,Tommaso,tommaso.guercio@studenti.unipd.it,PoD\n",
      "Hatamjahromi,Roozbeh,Roozbeh.hatam1377@gmail.com  /   10675931@unipd.it,PoD\n",
      "Isotton,Gloria,gloria.isotton@studenti.unipd.it,PoD\n",
      "Javid,Kiamehr,kiamehr.javid@studenti.unipd.it,PoD\n",
      "Kumar,Prince,prince.kumar@studenti.unipd.it,PoD\n",
      "La Delfa ,Niccolò ,niccolo.ladelfa@studenti.unipd.it,PoD\n",
      "Lui,Riccardo ,riccardo.lui@studenti.unipd.it,PoD\n",
      "Lupi,Enrico,enrico.lupi@studenti.unipd.it,PoD\n",
      "Marchetti,Andrea,andrea.marchetti.5@studenti.unipd.it,PoD\n",
      "Mengoni,Leon,leon.mengoni@studenti.unipd.it,PoD\n",
      "Menti,Luca,luca.menti@studenti.unipd.it,PoD\n",
      "Merlin,Giovanni,giovanni.merlin@studenti.unipd.it,PoD\n",
      "Meza,Stefano,stefanorafael.mezaanzules@studenti.unipd.it,PoD\n",
      "Miranda,Manfredi,manfredi.miranda@studenti.unipd.it,PoD\n",
      "Munafò,Sara,sara.munafo@studenti.unipd.it,PoD\n",
      "Pacheco,Sofia,sofia.pachecogarcia@studenti.unipd.it,PoD\n",
      "Pasian,Francisco,franciscoariel.pasian@studenti.unipd.it,PoD\n",
      "Peter,Maximilian,10705165@unipd.it / soon: maximilian.peter@studenti.unipd.it,PoD\n",
      "Pitteri,Alessio,alessio.pitteri@studenti.unipd.it,PoD\n",
      "Pra Floriani,Filippo,filippo.prafloriani@studenti.unipd.it,PoD\n",
      "Rostami,Amirhossein,amirhossein.rostami@studenti.unipd.it,PoD\n",
      "Saccomani,Alessio,alessio.saccomani@studenti.unipd.it,PoD\n",
      "Sahputra,Nadillia,nadillia.sahputra@studenti.unipd.it,PoD\n",
      "Sapkas,Michail,michail.sapkas@studenti.unipd.it,PoD\n",
      "Saran Gattorno,Giancarlo,giancarlo.sarangattorno@studenti.unipd.it,PoD\n",
      "Sardo Infirri,Giosuè,giosue.sardoinfirri@studenti.unipd.it,PoD\n",
      "Sarte,Emanuele,emanuele.sarte@studenti.unipd.it,PoD\n",
      "Tancredi ,Riccardo ,riccardo.tancredi@studenti.unipd.it,PoD\n",
      "Toso,Simone,simone.toso.2@studenti.unipd.it,PoD\n",
      "Vatankhahan,Mahdy,mahdy.vatankhahan@studenti.unipd.it,PoD\n",
      "Verguizas I Moliner,Joan,joan.verguizasimoliner@studenti.unipd.it,PoD\n",
      "Viterbo,Giuseppe,giuseppe.viterbo@studenti.unipd.it,PoD\n",
      "Waththe Liyanage,Wageesha Widuranga,wageeshawiduranga.waththeliyanage@studenti.unipd.it,PoD\n",
      "Wickramasinghe Mudiyanselage,Poornima Amali Wickramasinghe,poornimaamaliwickramasinghe.wickramasinghemudiyanselage@studenti.unipd.it,PoD\n",
      "Zago,Giovanni,giovanni.zago.2@studenti.unipd.it,PoD\n",
      "Zal,Abbas,abbas.zal@studenti.unipd.it,PoD\n",
      "Zane,Francesco,francesco.zane.1@studenti.unipd.it,PoD\n",
      "Zenari,Marco,marco.zenari@studenti.unipd.it,PoD\n",
      "Zhang,Qiqi,qiqi.zhang@studenti.unipd.it,PoD\n",
      "\n",
      "Family name(s),Given name(s),E-mail,Master program\n",
      "Bucalo,Edoardo,edoardorenato.bucalo@studenti.unipd.it,Physics\n",
      "Fedon Vocaturo,Marina,marina.fedonvocaturo@studenti.unipd.it,Physics\n",
      "Forza,Camilla,camilla.forza@studenti.unipd.it,Physics\n",
      "Ruffini,Federico,federico.ruffini.1@studenti.unipd.it,Physics\n",
      "Saretto,Saretto,alberto.saretto.1@studenti.unipd.it,Physics\n"
     ]
    }
   ],
   "source": [
    "! head -n 1 LCP_22-23_students.csv > PoD_students.csv\n",
    "! grep \"PoD\" LCP_22-23_students.csv >> PoD_students.csv\n",
    "\n",
    "! head -n 1 LCP_22-23_students.csv > Physics_students.csv\n",
    "! grep \"Physics\" LCP_22-23_students.csv >> Physics_students.csv\n",
    "\n",
    "! cat PoD_students.csv\n",
    "print()\n",
    "! cat Physics_students.csv\n"
   ]
  },
  {
   "cell_type": "markdown",
   "id": "8a43d622",
   "metadata": {},
   "source": [
    "1\\.c For each letter of the alphabet, count the number of students whose surname starts with that letter. "
   ]
  },
  {
   "cell_type": "markdown",
   "id": "4ba6bc90",
   "metadata": {},
   "source": [
    "1\\.d Find out which is the letter with most counts."
   ]
  },
  {
   "cell_type": "markdown",
   "id": "086a043c",
   "metadata": {},
   "source": [
    "1\\.e Assume an obvious numbering of the students in the file (first line is 1, second line is 2, etc.), group students \"modulo 18\", i.e. 1,19,37,.. 2,20,38,.. etc. and put each group in a separate file  "
   ]
  },
  {
   "cell_type": "markdown",
   "id": "d94aaf2f-27bc-4cba-b38b-fbdf14548b91",
   "metadata": {},
   "source": [
    "```bash\n",
    "# Make a new directory and download the file\n",
    "   cd LCP_exam\n",
    "   ls\n",
    "   mkdir students\n",
    "   curl -L -O \"https://www.dropbox.com/s/867rtx3az6e9gm8/LCP_22-23_students.csv\"\n",
    "   ls\n",
    "   cat students_list.csv\n",
    "   cd students\n",
    "   ls\n",
    "   cd -\n",
    "   cp students_list.csv students\n",
    "   cd students\n",
    "   ls\n",
    "# Make two new files, one containing the students belonging to PoD, the other to Physics\n",
    "   grep \"PoD\" students_list.csv > PoD_students.csv\n",
    "   grep \"Physics\" students_list.csv > Physics_students.csv\n",
    "   ls\n",
    "   cat PoD_students.csv \n",
    "# For each letter of the alphabet, count the number of students whose surname starts with that \n",
    "   vim alphabet.sh\n",
    "   chmod +x alphabet.sh\n",
    "   ./alphabet.sh\n",
    "   cat alphabet.sh\n",
    "   #!/bin/bash\n",
    "    file=\"students_list.csv\"\n",
    "    for letter in {A..Z}; do \n",
    "    \tcount=$(grep -i \"^$letter\" \"$file\" | wc -l)\n",
    "    \techo \"$letter: $count\"\n",
    "    done\n",
    "# Find out which is the letter with most counts\n",
    "    sort -t \":\" -k 2 -n counts.txt | tail -n 1\n",
    "# Assume an obvious numbering of the students in the file (first line is 1, second line is 2, etc.), group students \"modulo 18\", i.e. 1,19,37,.. 2,20,38,.. etc. and put each group in a separate file  \n",
    "    #!/bin/bashs\n",
    "    for ((i = 0; i<18; i++)); do\n",
    "    \ttouch group_{$i}.txt\n",
    "    \t> group_{$i}.txt\n",
    "    done\n",
    "    \n",
    "    line_n=0\n",
    "    while read -r line; do\n",
    "    \tgroup_n=$((line_n % 18))\n",
    "    \techo \"$line\" >> group_{$group_n}.txt\n",
    "    \t((line_n ++))\n",
    "    done < students_list.csv\n",
    "```"
   ]
  },
  {
   "cell_type": "markdown",
   "id": "1d730d21",
   "metadata": {},
   "source": [
    "### Ex 2"
   ]
  },
  {
   "cell_type": "markdown",
   "id": "4b87ecb7",
   "metadata": {},
   "source": [
    "2.a Make a copy of the file `data.csv` removing the metadata and the commas between numbers; call it `data.txt`"
   ]
  },
  {
   "cell_type": "code",
   "execution_count": 1,
   "id": "aadda57b-9f35-4935-a64f-60d1a1111c1c",
   "metadata": {},
   "outputs": [],
   "source": [
    "# !grep -v \"^#\" data.csv | sed 's/,/ /g' > data.txt"
   ]
  },
  {
   "cell_type": "markdown",
   "id": "344048c8",
   "metadata": {},
   "source": [
    "2\\.b How many even numbers are there?"
   ]
  },
  {
   "cell_type": "code",
   "execution_count": 12,
   "id": "f83e718c-9f30-4060-a3ae-bf282efe2f2f",
   "metadata": {},
   "outputs": [
    {
     "name": "stdout",
     "output_type": "stream",
     "text": [
      "     147\n",
      "     147\n",
      "147\n",
      "     300\n",
      "      50 data.txt\n",
      "50\n"
     ]
    }
   ],
   "source": [
    "! grep -o '[0-9]*' data.txt | awk '$1 % 2 == 0' | wc -l\n",
    "\n",
    "# Another possibility is: \n",
    "\n",
    "! grep -o '[0-9]*' data.txt | grep '[02468]$' | wc -l\n",
    "\n",
    "# Or: \n",
    "\n",
    "! grep -o '[0-9]*' data.txt | grep -c '[02468]$'\n",
    "\n",
    "# Let's count the total amount of numbers by multiplying each line by six and see if it corresponds\n",
    "\n",
    "! grep -o '[0-9]*' data.txt  | wc -l\n",
    "\n",
    "# Let's count the lines of a file \n",
    "\n",
    "! wc -l data.txt\n",
    "\n",
    "# Notice that the following command gives 50 because it counts the lines of the file, not the occurrences considered in -o\n",
    "\n",
    "! grep -c -o '[0-9]*' data.txt   \n"
   ]
  },
  {
   "cell_type": "markdown",
   "id": "2a27138d",
   "metadata": {},
   "source": [
    "2\\.c Distinguish the entries on the basis of `sqrt(X^2 + Y^2 + Z^2)` is greater or smaller than `100*sqrt(3)/2`. Count the entries of each of the two groups "
   ]
  },
  {
   "cell_type": "markdown",
   "id": "e937ef4e",
   "metadata": {},
   "source": [
    "2\\.d Make `n` copies of data.txt (with `n` an input parameter of the script), where the i-th copy has all the numbers divided by i (with `1<=i<=n`)."
   ]
  },
  {
   "cell_type": "markdown",
   "id": "287b05a3-b2c4-47a0-b8d7-bd1ea7509673",
   "metadata": {},
   "source": [
    "```bash\n",
    "# Make a copy of the file data.csv removing the metadata and the commas between numbers; call it data.txt\n",
    "grep -v \"^#\" data.csv | sed 's/,//g' > data.txt\n",
    "# How many even numbers are there?\n",
    "grep -o \"[0-9]*\" data.txt| grep -o \"$[02468]\" > all_counts.txt \n",
    "grep -c \"[02468]$\" all_counts.txt\n",
    "# Distinguish the entries on the basis of `sqrt(X^2 + Y^2 + Z^2)` is greater or smaller than `100*sqrt(3)/2`. Count the entries of each of the two groups \n",
    "#!/bin/bash\n",
    "\n",
    "THRESHOLD=$(echo \"scale = 5; (sqrt(3) / 2) * 100\" | bc -l)\n",
    "\n",
    "cg=0\n",
    "cl=0\n",
    "\n",
    "while IFS=' ' read -r x y z xp yp zp;do \n",
    "\tDISTANCE=$(echo \"scale = 5; sqrt(($x^2) + ($y^2) + ($z^2))\" | bc -l)\n",
    "\t\n",
    "\tif (( $(echo \"$DISTANCE >= $THRESHOLD\" | bc -l ) )); then\n",
    "\t\t((cg ++))\n",
    "\telse \n",
    "\t\t((cl ++))\n",
    "\tfi\n",
    "done < data.txt\n",
    "echo \"Greater or equal numbers amount: $cg , smaller: $cl\"\n",
    "# Make n copies of data.txt (with n an input parameter of the script), where the i-th copy has all the numbers divided by i (with 1<=i<=n).\n",
    "#!/bin/bash\n",
    "\n",
    "echo \"Give me the number of copies you want\"\n",
    "read copies\n",
    "\n",
    "for ((i=0; i<copies; i++)); do\n",
    "    den=$((i + 1))  # Use shell arithmetic\n",
    "    while read -r line; do\n",
    "\tfor word in $line; do\n",
    "\t\t#echo \"$word\"\n",
    "\t       \t echo \"scale=5; $word / $den\" | bc -l >> \"copy_${den}.txt\"\n",
    "\tdone\n",
    "    done < data.txt\n",
    "done\n",
    "```"
   ]
  },
  {
   "cell_type": "markdown",
   "id": "3ca49bd9-841a-4ae6-b049-53f5324e49a6",
   "metadata": {},
   "source": [
    "Putting for example ex 2 in a single script: \n",
    "\n",
    "```bash\n",
    "#!/bin/bash\n",
    "# Take the data, clean it and put it in data.txt\n",
    "grep -v \"^#\" data.csv | sed 's/,//g' > data.txt\n",
    "\n",
    "# Count the even numbers\n",
    "echo \"In data.txt there are $(grep -o \"[0-9]*\" data.txt | grep -c \"[02468]$\") even numbers\"\n",
    "\n",
    "# Distance and threshold part\n",
    "\n",
    "THRESHOLD=$(echo \"scale=3; 100*sqrt(3)/2\" | bc -l)\n",
    "\n",
    "cg=0\n",
    "cl=0\n",
    "\n",
    "while read -r x y z _; do\n",
    "        DISTANCE=$( echo \"scale=3; sqrt(($x)^2+($y)^2+($z)^2)\" | bc -l)\n",
    "\n",
    "        if [ $(echo \"$DISTANCE < $THRESHOLD\" | bc -l) -eq 1 ]; then\n",
    "                ((cl++))\n",
    "        else\n",
    "                ((cg++))\n",
    "        fi\n",
    "done < data.txt\n",
    "echo \"Counts of distance being greater than $THRESHOLD: $cg\"\n",
    "echo \"Counts of distance being smaller than $THRESHOLD: $cl\"\n",
    "\n",
    "# Make a given amout of copies\n",
    "echo \"Give me the amount of copies you want\"\n",
    "read N\n",
    "\n",
    "for ((i=0;i<N;i++)); do\n",
    "        nfile=$((i+1))\n",
    "        > copy_${nfile}.txt\n",
    "        while read -r line; do\n",
    "                for word in $line; do\n",
    "                        res=$(echo \"scale=3; $word / $nfile\" | bc -l)\n",
    "                        echo \"$res\" >> copy_${nfile}.txt\n",
    "                done\n",
    "        done < data.txt\n",
    "done\n",
    "```"
   ]
  }
 ],
 "metadata": {
  "kernelspec": {
   "display_name": "Python 3 (ipykernel)",
   "language": "python",
   "name": "python3"
  },
  "language_info": {
   "codemirror_mode": {
    "name": "ipython",
    "version": 3
   },
   "file_extension": ".py",
   "mimetype": "text/x-python",
   "name": "python",
   "nbconvert_exporter": "python",
   "pygments_lexer": "ipython3",
   "version": "3.12.7"
  }
 },
 "nbformat": 4,
 "nbformat_minor": 5
}
