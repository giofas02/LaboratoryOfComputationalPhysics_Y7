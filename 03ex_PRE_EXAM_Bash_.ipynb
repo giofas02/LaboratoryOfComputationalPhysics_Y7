{
 "cells": [
  {
   "cell_type": "markdown",
   "id": "b5746bd0",
   "metadata": {},
   "source": [
    "The following exercises are meant to be solved by gathering the bash commands incrimentally in two scripts, one for ex 1.* the other for ex 2.* "
   ]
  },
  {
   "cell_type": "markdown",
   "id": "4e60de78",
   "metadata": {},
   "source": [
    "### Ex 1"
   ]
  },
  {
   "cell_type": "markdown",
   "id": "6759df36",
   "metadata": {},
   "source": [
    "1\\.a Make a new directory called `students` in your home. Download a csv file with the list of students of this lab from [here](https://www.dropbox.com/s/867rtx3az6e9gm8/LCP_22-23_students.csv) (use the `wget` command) and copy that to `students`. First check whether the file is already there"
   ]
  },
  {
   "cell_type": "code",
   "execution_count": 42,
   "id": "06bcd3c2-573e-4c79-8631-ba64067f5fec",
   "metadata": {},
   "outputs": [
    {
     "name": "stdout",
     "output_type": "stream",
     "text": [
      "/Users/giorgiafasiolo/Documents/UniPd/1st semester/LaboratoryOfComputationalPhysics_Y7/03ex_PRE_EXAM_bash\n",
      "/Users/giorgiafasiolo/Documents/UniPd/1st semester/LaboratoryOfComputationalPhysics_Y7/03ex_PRE_EXAM_bash\n",
      "03ex_PRE_EXAM_Bash_.ipynb PoD_students.csv\n",
      "Physics_students.csv      \u001b[34mstudents\u001b[m\u001b[m\n",
      "  % Total    % Received % Xferd  Average Speed   Time    Time     Time  Current\n",
      "                                 Dload  Upload   Total   Spent    Left  Speed\n",
      "100    17  100    17    0     0     24      0 --:--:-- --:--:-- --:--:--    24\n",
      "100  4405  100  4405    0     0   3682      0  0:00:01  0:00:01 --:--:--  3682\n"
     ]
    }
   ],
   "source": [
    "#!mkdir students\n",
    "! cd students\n",
    "! pwd\n",
    "! ls | grep \"LCP_22-23_students.csv\"\n",
    "! cd - \n",
    "! pwd\n",
    "! ls\n",
    "!cd students\n",
    "#!curl -L -O \"https://www.dropbox.com/scl/fi/bxv17nrbrl83vw6qrkiu9/LCP_22-23_students.csv?rlkey=47fakvatrtif3q3qw4q97p5b7&e=1&st=aaqcfx3y\"\n",
    "#! cp LCP_22-23_students.csv students"
   ]
  },
  {
   "cell_type": "markdown",
   "id": "798c0c9d",
   "metadata": {},
   "source": [
    "1\\.b Make two new files, one containing the students belonging to PoD, the other to Physics."
   ]
  },
  {
   "cell_type": "code",
   "execution_count": 43,
   "id": "7adc924d-5fc1-4da2-8c0b-5e4b969c2e60",
   "metadata": {},
   "outputs": [
    {
     "name": "stdout",
     "output_type": "stream",
     "text": [
      "Family name(s),Given name(s),E-mail,Master program\n",
      "Akkara,Jelin Raphael,jelinraphael.akkara@studenti.unipd.it,PoD\n",
      "Altamirano,Davide,davidalejandro.altamiranocoello@studenti.unipd.it,PoD\n",
      "Badami,Hessan,mohammadhessan.badami@studenti.unipd.it,PoD\n",
      "Baghaei Saryazdi,Fateme,fateme.baghaeisaryazdi@studenti.unipd.it,PoD\n",
      "Barbiero,Lorenzo,lorenzo.barbiero.1@studenti.unipd.it,PoD\n",
      "Bedin,Veronica,veronica.bedin.1@studenti.unipd.it,PoD\n",
      "Benito,Guillermo,guillermo.benitocalvino@studenti.unipd.it,PoD\n",
      "Bertininelli,Gabriele,gabriele.bertinelli@studenti.unipd.it,PoD\n",
      "Bertola,Tommaso,tommaso.bertola@studenti.unipd.it,PoD\n",
      "Bhatti,Roben,roben.bhatti@studenti.unipd.it,PoD\n",
      "Bonato,Diego,diego.bonato.1@studenti.unipd.it,PoD\n",
      "Bordin,Guglielmo,guglielmo.bordin@studenti.unipd.it,PoD\n",
      "Breccia,Alessandro,alessandro.breccia@studenti.unipd.it,PoD\n",
      "Brisigotti,Erica,10698739@unipd.it / ericabrisigotti@gmail.com,PoD\n",
      "Checchia,Davide,davide.checchia@studenti.unipd.it,PoD\n",
      "Chiloiro,Marco,marco.chiloiro@studenti.unipd.it,PoD\n",
      "Chueva,Ekaterina ,ekaterina.chueva@studenti.unipd.it,PoD\n",
      "Dall'Ara ,Marco ,marco.dallara.1@studenti.unipd.it,PoD\n",
      "Davide,Bacilieri,davide.bacilieri@studenti.unipd.it,PoD\n",
      "De Vita,Andrea,andrea.devita.1@studenti.unipd.it,PoD\n",
      "Di Prima,Giacomo,giacomo.diprima@studenti.unipd.it,PoD\n",
      "Divari,Carlo,carlo.divari@studenti.unipd.it,PoD\n",
      "Dodampe Gamage,Eran,erankawinda.dodampegamage@studenti.unipd.it,PoD\n",
      "Eslami shafigh,Ehsan,ehsan.eslamishafigh@studenti.unipd.it,PoD\n",
      "Feltrin,Antonio,antonio.feltrin@studenti.unipd.it,PoD\n",
      "Garbo ,Anna,anna.garbo.2@studenti.unipd.it,PoD\n",
      "Ghaemifar,Sepideh,sepideh.ghaemifar@studenti.unipd.it,PoD\n",
      "Golan,Rodrigo,rodrigo.golan@studenti.unipd.it,PoD\n",
      "Guercio,Tommaso,tommaso.guercio@studenti.unipd.it,PoD\n",
      "Hatamjahromi,Roozbeh,Roozbeh.hatam1377@gmail.com  /   10675931@unipd.it,PoD\n",
      "Isotton,Gloria,gloria.isotton@studenti.unipd.it,PoD\n",
      "Javid,Kiamehr,kiamehr.javid@studenti.unipd.it,PoD\n",
      "Kumar,Prince,prince.kumar@studenti.unipd.it,PoD\n",
      "La Delfa ,Niccolò ,niccolo.ladelfa@studenti.unipd.it,PoD\n",
      "Lui,Riccardo ,riccardo.lui@studenti.unipd.it,PoD\n",
      "Lupi,Enrico,enrico.lupi@studenti.unipd.it,PoD\n",
      "Marchetti,Andrea,andrea.marchetti.5@studenti.unipd.it,PoD\n",
      "Mengoni,Leon,leon.mengoni@studenti.unipd.it,PoD\n",
      "Menti,Luca,luca.menti@studenti.unipd.it,PoD\n",
      "Merlin,Giovanni,giovanni.merlin@studenti.unipd.it,PoD\n",
      "Meza,Stefano,stefanorafael.mezaanzules@studenti.unipd.it,PoD\n",
      "Miranda,Manfredi,manfredi.miranda@studenti.unipd.it,PoD\n",
      "Munafò,Sara,sara.munafo@studenti.unipd.it,PoD\n",
      "Pacheco,Sofia,sofia.pachecogarcia@studenti.unipd.it,PoD\n",
      "Pasian,Francisco,franciscoariel.pasian@studenti.unipd.it,PoD\n",
      "Peter,Maximilian,10705165@unipd.it / soon: maximilian.peter@studenti.unipd.it,PoD\n",
      "Pitteri,Alessio,alessio.pitteri@studenti.unipd.it,PoD\n",
      "Pra Floriani,Filippo,filippo.prafloriani@studenti.unipd.it,PoD\n",
      "Rostami,Amirhossein,amirhossein.rostami@studenti.unipd.it,PoD\n",
      "Saccomani,Alessio,alessio.saccomani@studenti.unipd.it,PoD\n",
      "Sahputra,Nadillia,nadillia.sahputra@studenti.unipd.it,PoD\n",
      "Sapkas,Michail,michail.sapkas@studenti.unipd.it,PoD\n",
      "Saran Gattorno,Giancarlo,giancarlo.sarangattorno@studenti.unipd.it,PoD\n",
      "Sardo Infirri,Giosuè,giosue.sardoinfirri@studenti.unipd.it,PoD\n",
      "Sarte,Emanuele,emanuele.sarte@studenti.unipd.it,PoD\n",
      "Tancredi ,Riccardo ,riccardo.tancredi@studenti.unipd.it,PoD\n",
      "Toso,Simone,simone.toso.2@studenti.unipd.it,PoD\n",
      "Vatankhahan,Mahdy,mahdy.vatankhahan@studenti.unipd.it,PoD\n",
      "Verguizas I Moliner,Joan,joan.verguizasimoliner@studenti.unipd.it,PoD\n",
      "Viterbo,Giuseppe,giuseppe.viterbo@studenti.unipd.it,PoD\n",
      "Waththe Liyanage,Wageesha Widuranga,wageeshawiduranga.waththeliyanage@studenti.unipd.it,PoD\n",
      "Wickramasinghe Mudiyanselage,Poornima Amali Wickramasinghe,poornimaamaliwickramasinghe.wickramasinghemudiyanselage@studenti.unipd.it,PoD\n",
      "Zago,Giovanni,giovanni.zago.2@studenti.unipd.it,PoD\n",
      "Zal,Abbas,abbas.zal@studenti.unipd.it,PoD\n",
      "Zane,Francesco,francesco.zane.1@studenti.unipd.it,PoD\n",
      "Zenari,Marco,marco.zenari@studenti.unipd.it,PoD\n",
      "Zhang,Qiqi,qiqi.zhang@studenti.unipd.it,PoD\n",
      "\n",
      "Family name(s),Given name(s),E-mail,Master program\n",
      "Bucalo,Edoardo,edoardorenato.bucalo@studenti.unipd.it,Physics\n",
      "Fedon Vocaturo,Marina,marina.fedonvocaturo@studenti.unipd.it,Physics\n",
      "Forza,Camilla,camilla.forza@studenti.unipd.it,Physics\n",
      "Ruffini,Federico,federico.ruffini.1@studenti.unipd.it,Physics\n",
      "Saretto,Saretto,alberto.saretto.1@studenti.unipd.it,Physics\n"
     ]
    }
   ],
   "source": [
    "! head -n 1 LCP_22-23_students.csv > PoD_students.csv\n",
    "! grep \"PoD\" LCP_22-23_students.csv >> PoD_students.csv\n",
    "\n",
    "! head -n 1 LCP_22-23_students.csv > Physics_students.csv\n",
    "! grep \"Physics\" LCP_22-23_students.csv >> Physics_students.csv\n",
    "\n",
    "! cat PoD_students.csv\n",
    "print()\n",
    "! cat Physics_students.csv\n"
   ]
  },
  {
   "cell_type": "code",
   "execution_count": 45,
   "id": "2f47f1a7-f7b1-471e-af00-cb40c2f84d2e",
   "metadata": {},
   "outputs": [],
   "source": [
    "# Here I continue from terminal. "
   ]
  },
  {
   "cell_type": "markdown",
   "id": "8a43d622",
   "metadata": {},
   "source": [
    "1\\.c For each letter of the alphabet, count the number of students whose surname starts with that letter. "
   ]
  },
  {
   "cell_type": "markdown",
   "id": "4ba6bc90",
   "metadata": {},
   "source": [
    "1\\.d Find out which is the letter with most counts."
   ]
  },
  {
   "cell_type": "code",
   "execution_count": 1,
   "id": "87ab9e96-ab0a-47bc-96ca-548f2962f9d9",
   "metadata": {},
   "outputs": [],
   "source": [
    "# Same: done on terminal"
   ]
  },
  {
   "cell_type": "markdown",
   "id": "086a043c",
   "metadata": {},
   "source": [
    "1\\.e Assume an obvious numbering of the students in the file (first line is 1, second line is 2, etc.), group students \"modulo 18\", i.e. 1,19,37,.. 2,20,38,.. etc. and put each group in a separate file  "
   ]
  },
  {
   "cell_type": "code",
   "execution_count": 1,
   "id": "52a21dbd-4e40-4e4d-bd51-77d27c5801ad",
   "metadata": {},
   "outputs": [],
   "source": [
    "# Same: done on terminal"
   ]
  },
  {
   "cell_type": "markdown",
   "id": "1d730d21",
   "metadata": {},
   "source": [
    "### Ex 2"
   ]
  },
  {
   "cell_type": "markdown",
   "id": "4b87ecb7",
   "metadata": {},
   "source": [
    "2.a Make a copy of the file `data.csv` removing the metadata and the commas between numbers; call it `data.txt`"
   ]
  },
  {
   "cell_type": "code",
   "execution_count": 1,
   "id": "aadda57b-9f35-4935-a64f-60d1a1111c1c",
   "metadata": {},
   "outputs": [],
   "source": [
    "# !grep -v \"^#\" data.csv | sed 's/,/ /g' > data.txt"
   ]
  },
  {
   "cell_type": "markdown",
   "id": "344048c8",
   "metadata": {},
   "source": [
    "2\\.b How many even numbers are there?"
   ]
  },
  {
   "cell_type": "code",
   "execution_count": 12,
   "id": "f83e718c-9f30-4060-a3ae-bf282efe2f2f",
   "metadata": {},
   "outputs": [
    {
     "name": "stdout",
     "output_type": "stream",
     "text": [
      "     147\n",
      "     147\n",
      "147\n",
      "     300\n",
      "      50 data.txt\n",
      "50\n"
     ]
    }
   ],
   "source": [
    "! grep -o '[0-9]*' data.txt | awk '$1 % 2 == 0' | wc -l\n",
    "\n",
    "# Another possibility is: \n",
    "\n",
    "! grep -o '[0-9]*' data.txt | grep '[02468]$' | wc -l\n",
    "\n",
    "# Or: \n",
    "\n",
    "! grep -o '[0-9]*' data.txt | grep -c '[02468]$'\n",
    "\n",
    "# Let's count the total amount of numbers by multiplying each line by six and see if it corresponds\n",
    "\n",
    "! grep -o '[0-9]*' data.txt  | wc -l\n",
    "\n",
    "# Let's count the lines of a file \n",
    "\n",
    "! wc -l data.txt\n",
    "\n",
    "# Notice that the following command gives 50 because it counts the lines of the file, not the occurrences considered in -o\n",
    "\n",
    "! grep -c -o '[0-9]*' data.txt   \n"
   ]
  },
  {
   "cell_type": "markdown",
   "id": "2a27138d",
   "metadata": {},
   "source": [
    "2\\.c Distinguish the entries on the basis of `sqrt(X^2 + Y^2 + Z^2)` is greater or smaller than `100*sqrt(3)/2`. Count the entries of each of the two groups "
   ]
  },
  {
   "cell_type": "code",
   "execution_count": null,
   "id": "a29e5515-e268-442d-86b8-dae61d90e353",
   "metadata": {},
   "outputs": [],
   "source": [
    "# Done on a bash script from terminal"
   ]
  },
  {
   "cell_type": "markdown",
   "id": "e937ef4e",
   "metadata": {},
   "source": [
    "2\\.d Make `n` copies of data.txt (with `n` an input parameter of the script), where the i-th copy has all the numbers divided by i (with `1<=i<=n`)."
   ]
  },
  {
   "cell_type": "code",
   "execution_count": null,
   "id": "7287006a-d714-42ee-895e-daa0db22f59e",
   "metadata": {},
   "outputs": [],
   "source": [
    "# Also done on a bash script from terminal"
   ]
  }
 ],
 "metadata": {
  "kernelspec": {
   "display_name": "Python 3 (ipykernel)",
   "language": "python",
   "name": "python3"
  },
  "language_info": {
   "codemirror_mode": {
    "name": "ipython",
    "version": 3
   },
   "file_extension": ".py",
   "mimetype": "text/x-python",
   "name": "python",
   "nbconvert_exporter": "python",
   "pygments_lexer": "ipython3",
   "version": "3.12.7"
  }
 },
 "nbformat": 4,
 "nbformat_minor": 5
}
