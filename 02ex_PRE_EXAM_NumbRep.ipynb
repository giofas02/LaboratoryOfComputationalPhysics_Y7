{
 "cells": [
  {
   "cell_type": "markdown",
   "metadata": {},
   "source": [
    "# EXAM SIMULATION: \n",
    "## Starting time: I don't even know\n",
    "## End before: as soon as possible\n",
    "## Actual time at which I finished: it took me forever\n",
    "\n",
    "#### Notice: \n",
    "             1. the exam is considered finished once you've pulled the exercise on your GitHub repository. \n",
    "             2. during the exam you don't have access to internet, only a few library instructions.  "
   ]
  },
  {
   "cell_type": "markdown",
   "metadata": {},
   "source": [
    "1\\. Write a function that converts number representation, bin<->dec<->hex. (Clearly using the corresponding python built-in functions is not fair..)"
   ]
  },
  {
   "cell_type": "code",
   "execution_count": 34,
   "metadata": {},
   "outputs": [
    {
     "name": "stdout",
     "output_type": "stream",
     "text": [
      "63\n",
      "3F\n",
      "FF\n",
      "1100100\n",
      "64\n",
      "64\n"
     ]
    }
   ],
   "source": [
    "def from_base(string, base): #converts string to base\n",
    "    string = string.upper()\n",
    "    string = list(reversed(string))\n",
    "    n = 0\n",
    "    for i in range(len(string)): \n",
    "        if base == 16: \n",
    "            if string[i] == 'A': \n",
    "                string[i] = 10\n",
    "            if string[i] == 'B': \n",
    "                string[i] = 11\n",
    "            if string[i] == 'C': \n",
    "                string[i] = 12\n",
    "            if string[i] == 'D': \n",
    "                string[i] = 13\n",
    "            if string[i] == 'E': \n",
    "                string[i] = 14\n",
    "            if string[i] == 'F':\n",
    "                string[i] = 15\n",
    "                \n",
    "        n+=int(string[i])*base**i        \n",
    "    return n\n",
    "\n",
    "def to_base(n, base): # double-dabble algorithm or analogous for hex\n",
    "    lis = []\n",
    "    while n != 0: \n",
    "        lis.append(n % base)\n",
    "        n = n // base\n",
    "        \n",
    "    lis = list(reversed(lis))  # reverse the list to get correct digits order\n",
    "\n",
    "    string = ''\n",
    "    for i in range(len(lis)): \n",
    "        if base == 16: \n",
    "            if lis[i] == 10: \n",
    "                string += 'A'\n",
    "            elif lis[i] == 11: \n",
    "                string += 'B'\n",
    "            elif lis[i] == 12: \n",
    "                string += 'C'\n",
    "            elif lis[i] == 13: \n",
    "                string += 'D'\n",
    "            elif lis[i] == 14: \n",
    "                string += 'E'\n",
    "            elif lis[i] == 15:\n",
    "                string += 'F'\n",
    "            else:\n",
    "                string += str(lis[i])  # convert the number to string if it's not a hex digit\n",
    "        else:\n",
    "            string += str(lis[i])  # handle non-hexadecimal bases\n",
    "    return string\n",
    "\n",
    "\n",
    "#Let's check if the previous two functions work \n",
    "print(from_base('3F',16))\n",
    "print(to_base(63,16))\n",
    "print(to_base(255, 16))  # Should output \"FF\"\n",
    "print(to_base(100, 2))   # Should output \"1100100\"\n",
    "print(to_base(100,16))\n",
    "\n",
    "\n",
    "#Let's now put all together in a single function\n",
    "def convert(n,orig_base,fin_base):\n",
    "    if orig_base == 10:\n",
    "        dec = n\n",
    "    else: \n",
    "        n = str(n)\n",
    "        dec = from_base(n,orig_base)\n",
    "    if fin_base == 10:\n",
    "        return dec\n",
    "    else:\n",
    "        return to_base(dec, fin_base)\n",
    "\n",
    "print(convert(1100100,2,16))"
   ]
  },
  {
   "cell_type": "code",
   "execution_count": 1,
   "metadata": {},
   "outputs": [
    {
     "name": "stdout",
     "output_type": "stream",
     "text": [
      "4B\n"
     ]
    }
   ],
   "source": [
    "# Another way to do it: \n",
    "def to_dec(num, base): \n",
    "    num = str(num)\n",
    "    num = list(num)\n",
    "    if base == 16: \n",
    "        for idx,ch in enumerate(num):\n",
    "            if ch == 'A':\n",
    "                res[idx] = 10\n",
    "            if ch == 'B': \n",
    "                res[idx] = 11\n",
    "            if ch == 'C': \n",
    "                res[idx] = 12\n",
    "            if ch == 'D': \n",
    "                res[idx] = 13\n",
    "            if ch == 'E': \n",
    "                res[idx] = 14\n",
    "            if ch == 'F': \n",
    "                res[idx] = 15\n",
    "                \n",
    "    num = [int(n) for n in num]\n",
    "    num_rev = num[::-1]\n",
    "    dec = 0\n",
    "    for idx in range(len(num_rev)): \n",
    "        dec += num_rev[idx]*base**idx\n",
    "    return dec\n",
    "\n",
    "def from_dec(num, base): \n",
    "    \"\"\"\n",
    "    Implement double dabble algorithm (or analogous)\n",
    "        num//base --> take the rest \n",
    "         ...\n",
    "        (last != 0)//base --> take the rest\n",
    "        invert order\n",
    "\n",
    "    example: \n",
    "        5%2 = 1\n",
    "        (5//2)%2 = 2%2 = 0\n",
    "        1%2 = 1\n",
    "        --> 101\n",
    "    \"\"\"\n",
    "    remainder = []\n",
    "    while num!= 0: \n",
    "        remainder.append(num%base)\n",
    "        num //= base\n",
    "    res = remainder[::-1]\n",
    "\n",
    "    if base != 16: \n",
    "        return ''.join([str(ch) for ch in res])\n",
    "    else: \n",
    "        for idx,ch in enumerate(res): \n",
    "            if ch == 10:\n",
    "                res[idx] = 'A'\n",
    "            if ch == 11: \n",
    "                res[idx] = 'B'\n",
    "            if ch == 12: \n",
    "                res[idx] = 'C'\n",
    "            if ch == 13: \n",
    "                res[idx] = 'D'\n",
    "            if ch == 14: \n",
    "                res[idx] = 'E'\n",
    "            if ch == 15: \n",
    "                res[idx] = 'F'\n",
    "        return ''.join([str(ch) for ch in res])\n",
    "\n",
    "def from_to(num, base1, base2): \n",
    "    dec = to_dec(num, base1)\n",
    "    return from_dec(dec, base2)\n",
    "\n",
    "print(from_to(75,10,16))"
   ]
  },
  {
   "cell_type": "code",
   "execution_count": 1,
   "metadata": {},
   "outputs": [
    {
     "name": "stdout",
     "output_type": "stream",
     "text": [
      "11111111\n"
     ]
    }
   ],
   "source": [
    "# Even better way to do it: \n",
    "\n",
    "letters = ['A', 'B', 'C', 'D', 'E', 'F']\n",
    "num = [i for i in range(10,16)]\n",
    "\n",
    "def to_dec(s,base): \n",
    "    s = list(str(s))\n",
    "    s = s[::-1]\n",
    "    if base == 16: \n",
    "        for i in range(len(s)): \n",
    "            for j,alp in enumerate(letters): \n",
    "                if s[i] == alp: \n",
    "                    s[i] = num[j]\n",
    "    dec = 0\n",
    "    for idx,ch in enumerate(s): \n",
    "        dec+=int(ch)*(base**(idx))\n",
    "    return dec\n",
    "\n",
    "def from_dec(dec,base): \n",
    "    \"\"\"\n",
    "    The algorithm to follow is: \n",
    "        dec % base --> less sign bit\n",
    "        (dec // base) % base --> another bit\n",
    "        ...\n",
    "        so on while (dec // base) != 0\n",
    "    \"\"\"\n",
    "    s = [str(dec % base)]   \n",
    "    while (dec // base) != 0: \n",
    "        dec//= base\n",
    "        s+= str(dec%base)\n",
    "    if base == 16: \n",
    "        for i,ch in enumerate(list(s)): \n",
    "            for j,n in enumerate(num): \n",
    "                if int(ch) == n: \n",
    "                    s[i] = letters[j]\n",
    "    s = \"\".join(s[::-1])\n",
    "    return s\n",
    "\n",
    "def from_to(s,base1,base2): \n",
    "    return from_dec(to_dec(s,base1),base2)\n",
    "\n",
    "print(from_to('FF',16,2))"
   ]
  },
  {
   "cell_type": "markdown",
   "metadata": {},
   "source": [
    "2\\. Write a function that converts a 32 bit word into a single precision floating point (i.e. interprets the various bits as sign, mantissa and exponent)"
   ]
  },
  {
   "cell_type": "code",
   "execution_count": 1,
   "metadata": {},
   "outputs": [
    {
     "name": "stdout",
     "output_type": "stream",
     "text": [
      "5.75\n"
     ]
    }
   ],
   "source": [
    "def floating(word): \n",
    "    word = str(word)\n",
    "    if len(word) != 32: \n",
    "        raise ValueError(\"The given word is not 32 bit long!\")\n",
    "    sign = int(word[0])\n",
    "    exponent = int(word[1:9],2)\n",
    "    mantissa = word[9:]\n",
    "    mant_value = 1\n",
    "    for idx,val in enumerate(mantissa): \n",
    "        mant_value += int(val)*(2**(-idx - 1))\n",
    "    n = (-1)**sign * mant_value *2 **(exponent - 127)\n",
    "    return n\n",
    "\n",
    "print(floating('01000000101110000000000000000000'))"
   ]
  },
  {
   "cell_type": "markdown",
   "metadata": {},
   "source": [
    "3\\. Write a program to determine the underflow and overflow limits (within a factor of 2) for python on your computer. \n",
    "\n",
    "**Tips**: define two variables inizialized to 1 and halve/double them enough time to exceed the under/over-flow limits  "
   ]
  },
  {
   "cell_type": "code",
   "execution_count": 68,
   "metadata": {},
   "outputs": [
    {
     "name": "stdout",
     "output_type": "stream",
     "text": [
      "Underflow limit (smallest non-zero positive value): 5e-324\n",
      "Overflow limit (largest representable value): 8.98846567431158e+307\n"
     ]
    }
   ],
   "source": [
    "# Detecting underflow limit\n",
    "under_var = 1.0\n",
    "while under_var != 0:\n",
    "    last_under = under_var\n",
    "    under_var /= 2\n",
    "print(f\"Underflow limit (smallest non-zero positive value): {last_under}\")\n",
    "\n",
    "# Detecting overflow limit\n",
    "upper_var = 1.0\n",
    "while upper_var != float('inf'):\n",
    "    last_upper = upper_var\n",
    "    upper_var *= 2\n",
    "print(f\"Overflow limit (largest representable value): {last_upper}\")\n"
   ]
  },
  {
   "cell_type": "markdown",
   "metadata": {},
   "source": [
    "4\\. Write a program to determine the machine precision\n",
    "\n",
    "**Tips**: define a new variable by adding a smaller and smaller value (proceeding similarly to prob. 2) to an original variable and check the point where the two are the same "
   ]
  },
  {
   "cell_type": "code",
   "execution_count": 73,
   "metadata": {},
   "outputs": [
    {
     "name": "stdout",
     "output_type": "stream",
     "text": [
      "Machine precision: 2.220446049250313e-16\n"
     ]
    }
   ],
   "source": [
    "epsilon = 1.0\n",
    "while 1.0 + epsilon > 1.0:\n",
    "    last_epsilon = epsilon  \n",
    "    epsilon /= 2.0\n",
    "print(f\"Machine precision: {last_epsilon}\")"
   ]
  },
  {
   "cell_type": "markdown",
   "metadata": {},
   "source": [
    "5\\. Write a function that takes in input three parameters $a$, $b$ and $c$ and prints out the two solutions to the quadratic equation $ax^2+bx+c=0$ using the standard formula:\n",
    "$$\n",
    "x=\\frac{-b\\pm\\sqrt{b^2-4ac}}{2a}\n",
    "$$\n",
    "\n",
    "(a) use the program to compute the solution for $a=0.001$, $b=1000$ and $c=0.001$\n",
    "\n",
    "(b) re-express the standard solution formula by multiplying top and bottom by $-b\\mp\\sqrt{b^2-4ac}$ and again find the solution for $a=0.001$, $b=1000$ and $c=0.001$. How does it compare with what previously obtained? Why?\n",
    "\n",
    "(c) write a function that compute the roots of a quadratic equation accurately in all cases"
   ]
  },
  {
   "cell_type": "code",
   "execution_count": 3,
   "metadata": {},
   "outputs": [
    {
     "ename": "NameError",
     "evalue": "name 'np' is not defined",
     "output_type": "error",
     "traceback": [
      "\u001b[0;31m---------------------------------------------------------------------------\u001b[0m",
      "\u001b[0;31mNameError\u001b[0m                                 Traceback (most recent call last)",
      "Cell \u001b[0;32mIn[3], line 22\u001b[0m\n\u001b[1;32m     19\u001b[0m b \u001b[38;5;241m=\u001b[39m \u001b[38;5;241m1000\u001b[39m\n\u001b[1;32m     20\u001b[0m c \u001b[38;5;241m=\u001b[39m \u001b[38;5;241m0.001\u001b[39m\n\u001b[0;32m---> 22\u001b[0m \u001b[38;5;28mprint\u001b[39m(\u001b[38;5;124m\"\u001b[39m\u001b[38;5;124mRoots by means of usual formula:\u001b[39m\u001b[38;5;124m\"\u001b[39m, us_sol(a,b,c))\n\u001b[1;32m     23\u001b[0m \u001b[38;5;28mprint\u001b[39m(\u001b[38;5;124m\"\u001b[39m\u001b[38;5;124mResiduals:\u001b[39m\u001b[38;5;124m\"\u001b[39m, res(us_sol(a,b,c)[\u001b[38;5;241m0\u001b[39m]), res(us_sol(a,b,c)[\u001b[38;5;241m1\u001b[39m]))\n\u001b[1;32m     24\u001b[0m \u001b[38;5;28mprint\u001b[39m()\n",
      "Cell \u001b[0;32mIn[3], line 3\u001b[0m, in \u001b[0;36mus_sol\u001b[0;34m(a, b, c)\u001b[0m\n\u001b[1;32m      1\u001b[0m \u001b[38;5;28;01mdef\u001b[39;00m \u001b[38;5;21mus_sol\u001b[39m(a,b,c): \n\u001b[1;32m      2\u001b[0m     delta \u001b[38;5;241m=\u001b[39m b\u001b[38;5;241m*\u001b[39m\u001b[38;5;241m*\u001b[39m\u001b[38;5;241m2\u001b[39m \u001b[38;5;241m-\u001b[39m \u001b[38;5;241m4\u001b[39m\u001b[38;5;241m*\u001b[39ma\u001b[38;5;241m*\u001b[39mc\n\u001b[0;32m----> 3\u001b[0m     num1 \u001b[38;5;241m=\u001b[39m \u001b[38;5;241m-\u001b[39mb \u001b[38;5;241m+\u001b[39m np\u001b[38;5;241m.\u001b[39msqrt(delta)\n\u001b[1;32m      4\u001b[0m     num2 \u001b[38;5;241m=\u001b[39m \u001b[38;5;241m-\u001b[39mb \u001b[38;5;241m-\u001b[39m np\u001b[38;5;241m.\u001b[39msqrt(delta)\n\u001b[1;32m      5\u001b[0m     den \u001b[38;5;241m=\u001b[39m \u001b[38;5;241m2\u001b[39m\u001b[38;5;241m*\u001b[39ma\n",
      "\u001b[0;31mNameError\u001b[0m: name 'np' is not defined"
     ]
    }
   ],
   "source": [
    "def us_sol(a,b,c): \n",
    "    delta = b**2 - 4*a*c\n",
    "    num1 = -b + np.sqrt(delta)\n",
    "    num2 = -b - np.sqrt(delta)\n",
    "    den = 2*a\n",
    "    return num1/den, num2/den\n",
    "\n",
    "def alt_sol(a,b,c):\n",
    "    delta = b**2 - 4*a*c\n",
    "    num = 4*a*c\n",
    "    den1 = 2*a*(-b-np.sqrt(delta))\n",
    "    den2 = 2*a*(-b+np.sqrt(delta))\n",
    "    return num/den1, num/den2\n",
    "\n",
    "def res(x): \n",
    "    return a*x**2 + b*x + c \n",
    "    \n",
    "a = 0.001\n",
    "b = 1000\n",
    "c = 0.001\n",
    "\n",
    "print(\"Roots by means of usual formula:\", us_sol(a,b,c))\n",
    "print(\"Residuals:\", res(us_sol(a,b,c)[0]), res(us_sol(a,b,c)[1]))\n",
    "print()\n",
    "print(\"Roots by means of alternative formula\", alt_sol(a,b,c))\n",
    "print(\"Residuals:\", res(alt_sol(a,b,c)[0]), res(alt_sol(a,b,c)[1]))\n",
    "print()\n",
    "print(\"\"\"We notice that the second formula does much better in the first root, much worse on the second. In both cases we have\n",
    "roundoff error due to sqrt(delta) that can be represented only with a finite amount of digits. Moreover tho:\n",
    "-  In the first case, since b >> 4ac we have what's called 'catastrophic cancellation' we could lose information because the difference \n",
    "of two numbers is lower than machine precision. This error is moreover made more relevant by the division by a very small number. \n",
    "- In the second case instead, we get a very large error due to the division by a very small number which makes the small error at \n",
    "denominator (due to both cancellation and roundoff) become very big.\"\"\")\n",
    "\n",
    "def best_sol(a,b,c): \n",
    "    if b >= 0: \n",
    "        return alt_sol(a,b,c)[0], usual_sol(a,b,c)[1]\n",
    "    else: \n",
    "        return usual_sol(a,b,c)[0], alt_sol(a,b,c)[1]\n"
   ]
  },
  {
   "cell_type": "markdown",
   "metadata": {},
   "source": [
    "6\\. Write a program that implements the function $f(x)=x(x−1)$\n",
    "\n",
    "(a) Calculate the derivative of the function at the point $x = 1$ using the derivative definition:\n",
    "\n",
    "$$\n",
    "\\frac{{\\rm d}f}{{\\rm d}x} = \\lim_{\\delta\\to0} \\frac{f(x+\\delta)-f(x)}{\\delta}\n",
    "$$\n",
    "\n",
    "with $\\delta = 10^{−2}$. Calculate the true value of the same derivative analytically and compare with the answer your program gives. The two will not agree perfectly. Why not?\n",
    "\n",
    "(b) Repeat the calculation for $\\delta = 10^{−4}, 10^{−6}, 10^{−8}, 10^{−10}, 10^{−12}$ and $10^{−14}$. How does the accuracy scales with $\\delta$?"
   ]
  },
  {
   "cell_type": "code",
   "execution_count": 35,
   "metadata": {},
   "outputs": [
    {
     "name": "stdout",
     "output_type": "stream",
     "text": [
      "approximation of the derivative of f(x) = x(x-1) in 1: 1.010000000000001\n",
      "approximation in 1 for 0.0001: 1.0000999999998899\n",
      "approximation in 1 for 1e-06: 1.0000009999177333\n",
      "approximation in 1 for 1e-08: 1.0000000039225287\n",
      "approximation in 1 for 1e-10: 1.000000082840371\n",
      "approximation in 1 for 1e-12: 1.0000889005833413\n",
      "approximation in 1 for 1e-14: 0.9992007221626509\n"
     ]
    },
    {
     "data": {
      "text/plain": [
       "[<matplotlib.lines.Line2D at 0x1637977a0>]"
      ]
     },
     "execution_count": 35,
     "metadata": {},
     "output_type": "execute_result"
    },
    {
     "data": {
      "image/png": "[encoded data removed]",
      "text/plain": [
       "<Figure size 640x480 with 1 Axes>"
      ]
     },
     "metadata": {},
     "output_type": "display_data"
    }
   ],
   "source": [
    "def func(x): \n",
    "    return x*(x-1)\n",
    "\n",
    "# Calculate the derivative of the function at the point  using the derivative definition:\n",
    "def derivative(f,x,delta): \n",
    "    num = f(x+delta) - f(x)\n",
    "    return num/delta\n",
    "\n",
    "print(f\"approximation of the derivative of f(x) = x(x-1) in 1: {derivative(func,1,10**(-2))}\")\n",
    "# The true value analitically would be 1\n",
    "\n",
    "# Repeat the calculation for the following list of deltas\n",
    "deltas = [10**(-4), 10**(-6), 10**(-8), 10**(-10), 10**(-12), 10**(-14)]\n",
    "\n",
    "residuals = []\n",
    "for delta in deltas: \n",
    "    print(f\"approximation in 1 for {delta}: {derivative(func,1,delta)}\")\n",
    "    residuals.append(derivative(func,1,delta)-1)\n",
    "\n",
    "from math import log10\n",
    "log_deltas = [log10(delta) for delta in deltas]\n",
    "\n",
    "import matplotlib.pyplot as plt\n",
    "plt.plot(log_deltas, [abs(residual) for residual in residuals])"
   ]
  },
  {
   "cell_type": "markdown",
   "metadata": {},
   "source": [
    "### COMMENT: \n",
    "We can see that: \n",
    "   - For very small delta values (around 10^-14), the approximation becomes less accurate\n",
    "   - There appears to be an optimal range where the approximation is most accurate (around 10^-8 to 10^-12)\n",
    "   - For larger delta values, the approximation is also less accurate\n",
    "\n",
    "The total error is indeed the sum of: \n",
    "- **catastrophic cancellation**, due to the fact that when f(delta+x) is very close to f(x), the difference makes us lose some signficant digits, so the difference we get is not really accurate (because the real value of the difference might be smaller than machine precision). This error gets even worse since we're dividing by a very small delta.\n",
    "- **truncation error**, due to the fact that we're truncating Taylor series. This error decreases as we decrease delta. "
   ]
  },
  {
   "cell_type": "markdown",
   "metadata": {},
   "source": [
    "7\\. Consider the integral of the semicircle of radius 1:\n",
    "$$\n",
    "I=\\int_{-1}^{1} \\sqrt(1-x^2) {\\rm d}x\n",
    "$$\n",
    "which it's known to be $I=\\frac{\\pi}{2}=1.57079632679...$.\n",
    "Alternatively we can use the Riemann definition of the integral:\n",
    "$$\n",
    "I=\\lim_{N\\to\\infty} \\sum_{k=1}^{N} h y_k \n",
    "$$\n",
    "\n",
    "with $h=2/N$ the width of each of the $N$ slices the domain is divided into and where\n",
    "$y_k$ is the value of the function at the $k-$th slice.\n",
    "\n",
    "(a) Write a programe to compute the integral with $N=100$. How does the result compares to the true value?\n",
    "\n",
    "(b) How much can $N$ be increased if the computation needs to be run in less than a second? What is the gain in running it for 1 minute? \n"
   ]
  },
  {
   "cell_type": "code",
   "execution_count": 1,
   "metadata": {},
   "outputs": [
    {
     "name": "stdout",
     "output_type": "stream",
     "text": [
      "Result of Riemann sum: 1.9998999974998752\n",
      "Riemann sum distance from actual value:0.4291036707049787\n",
      "Testing different N values to find maximum...\n",
      "Testing N = 100...\n",
      "Testing N = 10000...\n",
      "Testing N = 1000000...\n",
      "Testing N = 100000000...\n",
      "\n",
      "Maximum N within 1 second: 1000000\n",
      "Final result: 1.999999999999\n",
      "Error from true value: 0.42920367320410335\n"
     ]
    }
   ],
   "source": [
    "from math import sqrt\n",
    "import numpy as np\n",
    "import time\n",
    "\n",
    "def semicircle(x): \n",
    "    return sqrt(1-x**2)\n",
    "    \n",
    "def riemann_sum(inf,sup,func, N):\n",
    "    domain = abs(sup - inf)\n",
    "    step_width = domain/N\n",
    "    lower_lim = np.arange(inf,sup,step_width)\n",
    "    upper_lim = np.arange(inf+step_width, sup+step_width,step_width)\n",
    "    intervals = list(zip(lower_lim,upper_lim))\n",
    "    mid_points = []\n",
    "    h = 2/N\n",
    "    for i in range(len(intervals)): \n",
    "        mid = (upper_lim[i] - lower_lim[i])/2\n",
    "        mid_points.append(mid)\n",
    "    terms = [h*func(mid) for mid in mid_points]\n",
    "    return sum(terms)\n",
    "\n",
    "print(\"Result of Riemann sum:\", riemann_sum(-1,1,semicircle, 100))\n",
    "\n",
    "print(f\"Riemann sum distance from actual value:{abs(riemann_sum(-1,1,semicircle, 100) - np.pi/2)}\")\n",
    "\n",
    "# Find now the maximum N possible to stay within a given time\n",
    "def find_max_N(max_attempts=100):\n",
    "    N = 100\n",
    "    best_N = N\n",
    "    attempts = 0\n",
    "    \n",
    "    while attempts < max_attempts:\n",
    "        try:\n",
    "            print(f\"Testing N = {N}...\")  # Added to show progress\n",
    "            start_time = time.time()\n",
    "            riemann_sum(-1, 1, semicircle, N)\n",
    "            elapsed_time = time.time() - start_time\n",
    "            \n",
    "            if elapsed_time > 1.0:\n",
    "                return best_N\n",
    "            \n",
    "            best_N = N  # Update best_N only if the calculation succeeded\n",
    "            \n",
    "            if elapsed_time < 0.5:\n",
    "                N *= 100  # More conservative growth\n",
    "            else:\n",
    "                N += 100\n",
    "                \n",
    "            attempts += 1\n",
    "            \n",
    "        except Exception as e:\n",
    "            print(f\"Error occurred at N = {N}: {e}\")\n",
    "            return best_N\n",
    "    \n",
    "    print(\"Reached maximum number of attempts\")\n",
    "    return best_N\n",
    "\n",
    "print(\"Testing different N values to find maximum...\")\n",
    "max_N = find_max_N()\n",
    "result = riemann_sum(-1, 1, semicircle, max_N)\n",
    "error = abs(result - np.pi/2)\n",
    "\n",
    "print(f\"\\nMaximum N within 1 second: {max_N}\")\n",
    "print(f\"Final result: {result}\")\n",
    "print(f\"Error from true value: {error}\")"
   ]
  },
  {
   "cell_type": "code",
   "execution_count": 2,
   "metadata": {},
   "outputs": [
    {
     "name": "stdout",
     "output_type": "stream",
     "text": [
      "Result in 1 minute: 1.999999999999\n",
      "Error from true value: 0.42920367320410335\n"
     ]
    }
   ],
   "source": [
    "result_min = riemann_sum(-1, 1, semicircle, 60*max_N)\n",
    "error_min = abs(result - np.pi/2)\n",
    "\n",
    "print(f\"Result in 1 minute: {result}\")\n",
    "print(f\"Error from true value: {error}\")"
   ]
  },
  {
   "cell_type": "markdown",
   "metadata": {},
   "source": [
    "### COMMENT: \n",
    "The gain is negligible. \n"
   ]
  },
  {
   "cell_type": "code",
   "execution_count": null,
   "metadata": {},
   "outputs": [],
   "source": []
  }
 ],
 "metadata": {
  "kernelspec": {
   "display_name": "Python 3 (ipykernel)",
   "language": "python",
   "name": "python3"
  },
  "language_info": {
   "codemirror_mode": {
    "name": "ipython",
    "version": 3
   },
   "file_extension": ".py",
   "mimetype": "text/x-python",
   "name": "python",
   "nbconvert_exporter": "python",
   "pygments_lexer": "ipython3",
   "version": "3.12.7"
  }
 },
 "nbformat": 4,
 "nbformat_minor": 4
}
